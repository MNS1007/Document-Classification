{
 "cells": [
  {
   "cell_type": "code",
   "execution_count": 1,
   "id": "0a77facd",
   "metadata": {},
   "outputs": [],
   "source": [
    "import pandas as pd\n",
    "import numpy as np\n",
    "import os\n",
    "import tensorflow as tf\n",
    "import keras\n",
    "import cv2\n",
    "from tensorflow.keras import datasets,layers,models\n",
    "import matplotlib.pyplot as plt\n",
    "import matplotlib.image as mpimg\n",
    "import pickle"
   ]
  },
  {
   "cell_type": "code",
   "execution_count": 2,
   "id": "ebe83547",
   "metadata": {},
   "outputs": [],
   "source": [
    "X_train=np.load(\"HEADER_TRAIN.npy\")\n",
    "y_train=np.load(\"y_final_train.npy\")\n",
    "X_cval=np.load(\"X_final_cval.npy\")\n",
    "Y_cval=np.load(\"y_final_cval.npy\")"
   ]
  },
  {
   "cell_type": "code",
   "execution_count": 3,
   "id": "57d1a245",
   "metadata": {},
   "outputs": [
    {
     "data": {
      "text/plain": [
       "(38400, 128, 128, 3)"
      ]
     },
     "execution_count": 3,
     "metadata": {},
     "output_type": "execute_result"
    }
   ],
   "source": [
    "X_train.shape"
   ]
  },
  {
   "cell_type": "code",
   "execution_count": 4,
   "id": "5ea05736",
   "metadata": {},
   "outputs": [],
   "source": [
    "data_augmentation = keras.Sequential([\n",
    "    layers.experimental.preprocessing.RandomZoom(0.1),\n",
    "    layers.experimental.preprocessing.RandomContrast(0.7),\n",
    "    \n",
    "])"
   ]
  },
  {
   "cell_type": "code",
   "execution_count": 5,
   "id": "b1914d37",
   "metadata": {},
   "outputs": [],
   "source": [
    "cnn_header= models.Sequential([\n",
    "    data_augmentation,\n",
    "    # cnn\n",
    "    layers.Conv2D(filters = 32,kernel_size = (3,3),activation = 'relu',input_shape = (128,128,3),padding = 'same'),\n",
    "    layers.MaxPooling2D((2,2)),\n",
    "    \n",
    "    layers.Conv2D(filters = 32,kernel_size = (3,3),activation = 'relu',input_shape = (128,128,3),padding = 'same'),\n",
    "    layers.MaxPooling2D((2,2)),\n",
    "    \n",
    "    layers.Conv2D(filters = 32,kernel_size = (3,3),activation = 'relu',input_shape = (128,128,3),padding = 'same'),\n",
    "    layers.MaxPooling2D((2,2)),\n",
    "    \n",
    "    layers.Conv2D(filters = 32,kernel_size = (3,3),activation = 'relu',input_shape = (128,128,3),padding = 'same'),\n",
    "    layers.MaxPooling2D((2,2)),\n",
    "    \n",
    "    #layers.Conv2D(filters = 32,kernel_size = (3,3),activation = 'relu',input_shape = (128,128,3),padding = 'same'),\n",
    "    #layers.MaxPooling2D((2,2)),\n",
    "    \n",
    "    #layers.Conv2D(filters = 32,kernel_size = (3,3),activation = 'relu',input_shape = (128,128,3),padding = 'same'),\n",
    "    #layers.MaxPooling2D((2,2)),\n",
    "    \n",
    "    layers.Dropout(0.2),\n",
    "    \n",
    "    # dense\n",
    "    layers.Flatten(),\n",
    "    layers.Dense(64,activation = \"relu\"),\n",
    "    #layers.Dense(64,activation = \"relu\"),\n",
    "    layers.Dense(16,activation = 'softmax')\n",
    "]\n",
    ")"
   ]
  },
  {
   "cell_type": "code",
   "execution_count": 6,
   "id": "019b3650",
   "metadata": {},
   "outputs": [],
   "source": [
    "cnn_header.compile(\n",
    "    optimizer='adam',\n",
    "    loss=\"sparse_categorical_crossentropy\",\n",
    "    metrics=\"accuracy\"   \n",
    ")"
   ]
  },
  {
   "cell_type": "code",
   "execution_count": 7,
   "id": "27c588a5",
   "metadata": {},
   "outputs": [
    {
     "name": "stdout",
     "output_type": "stream",
     "text": [
      "Epoch 1/50\n",
      "WARNING:tensorflow:Using a while_loop for converting RngReadAndSkip\n",
      "WARNING:tensorflow:Using a while_loop for converting Bitcast\n",
      "WARNING:tensorflow:Using a while_loop for converting Bitcast\n",
      "WARNING:tensorflow:Using a while_loop for converting StatelessRandomUniformFullIntV2\n",
      "WARNING:tensorflow:Using a while_loop for converting StatelessRandomGetKeyCounter\n",
      "WARNING:tensorflow:Using a while_loop for converting StatelessRandomUniformV2\n",
      "WARNING:tensorflow:Using a while_loop for converting AdjustContrastv2\n",
      "WARNING:tensorflow:Using a while_loop for converting RngReadAndSkip\n",
      "WARNING:tensorflow:Using a while_loop for converting Bitcast\n",
      "WARNING:tensorflow:Using a while_loop for converting Bitcast\n",
      "WARNING:tensorflow:Using a while_loop for converting StatelessRandomUniformFullIntV2\n",
      "WARNING:tensorflow:Using a while_loop for converting StatelessRandomGetKeyCounter\n",
      "WARNING:tensorflow:Using a while_loop for converting StatelessRandomUniformV2\n",
      "WARNING:tensorflow:Using a while_loop for converting AdjustContrastv2\n",
      "WARNING:tensorflow:Using a while_loop for converting RngReadAndSkip\n",
      "WARNING:tensorflow:Using a while_loop for converting Bitcast\n",
      "WARNING:tensorflow:Using a while_loop for converting Bitcast\n",
      "WARNING:tensorflow:Using a while_loop for converting StatelessRandomUniformFullIntV2\n",
      "WARNING:tensorflow:Using a while_loop for converting StatelessRandomGetKeyCounter\n",
      "WARNING:tensorflow:Using a while_loop for converting StatelessRandomUniformV2\n",
      "WARNING:tensorflow:Using a while_loop for converting AdjustContrastv2\n",
      "WARNING:tensorflow:Using a while_loop for converting RngReadAndSkip\n",
      "WARNING:tensorflow:Using a while_loop for converting Bitcast\n",
      "WARNING:tensorflow:Using a while_loop for converting Bitcast\n",
      "WARNING:tensorflow:Using a while_loop for converting StatelessRandomUniformFullIntV2\n",
      "WARNING:tensorflow:Using a while_loop for converting StatelessRandomGetKeyCounter\n",
      "WARNING:tensorflow:Using a while_loop for converting StatelessRandomUniformV2\n",
      "WARNING:tensorflow:Using a while_loop for converting AdjustContrastv2\n",
      "1200/1200 [==============================] - 700s 572ms/step - loss: 2.3388 - accuracy: 0.2479 - val_loss: 1.9650 - val_accuracy: 0.3739\n",
      "Epoch 2/50\n",
      "1200/1200 [==============================] - 675s 563ms/step - loss: 1.9015 - accuracy: 0.4046 - val_loss: 1.7247 - val_accuracy: 0.4608\n",
      "Epoch 3/50\n",
      "1200/1200 [==============================] - 657s 548ms/step - loss: 1.7306 - accuracy: 0.4612 - val_loss: 1.6604 - val_accuracy: 0.4886\n",
      "Epoch 4/50\n",
      "1200/1200 [==============================] - 645s 538ms/step - loss: 1.6069 - accuracy: 0.5019 - val_loss: 1.6401 - val_accuracy: 0.4956\n",
      "Epoch 5/50\n",
      "1200/1200 [==============================] - 640s 534ms/step - loss: 1.5084 - accuracy: 0.5315 - val_loss: 1.4444 - val_accuracy: 0.5643\n",
      "Epoch 6/50\n",
      "1200/1200 [==============================] - 642s 535ms/step - loss: 1.4262 - accuracy: 0.5608 - val_loss: 1.4253 - val_accuracy: 0.5695\n",
      "Epoch 7/50\n",
      "1200/1200 [==============================] - 667s 556ms/step - loss: 1.3689 - accuracy: 0.5771 - val_loss: 1.3809 - val_accuracy: 0.5922\n",
      "Epoch 8/50\n",
      "1200/1200 [==============================] - 584s 487ms/step - loss: 1.3214 - accuracy: 0.5911 - val_loss: 1.3519 - val_accuracy: 0.5921\n",
      "Epoch 9/50\n",
      "1200/1200 [==============================] - 566s 472ms/step - loss: 1.2815 - accuracy: 0.6068 - val_loss: 1.4071 - val_accuracy: 0.5814\n",
      "Epoch 10/50\n",
      "1200/1200 [==============================] - 573s 478ms/step - loss: 1.2461 - accuracy: 0.6135 - val_loss: 1.3423 - val_accuracy: 0.6036\n",
      "Epoch 11/50\n",
      "1200/1200 [==============================] - 597s 498ms/step - loss: 1.2154 - accuracy: 0.6211 - val_loss: 1.3451 - val_accuracy: 0.6117\n",
      "Epoch 12/50\n",
      "1200/1200 [==============================] - 541s 451ms/step - loss: 1.1886 - accuracy: 0.6303 - val_loss: 1.2928 - val_accuracy: 0.6143\n",
      "Epoch 13/50\n",
      "1200/1200 [==============================] - 542s 451ms/step - loss: 1.1605 - accuracy: 0.6371 - val_loss: 1.3528 - val_accuracy: 0.6043\n",
      "Epoch 14/50\n",
      "1200/1200 [==============================] - 543s 453ms/step - loss: 1.1320 - accuracy: 0.6466 - val_loss: 1.3285 - val_accuracy: 0.6108\n",
      "Epoch 15/50\n",
      "1200/1200 [==============================] - 546s 455ms/step - loss: 1.1239 - accuracy: 0.6471 - val_loss: 1.2821 - val_accuracy: 0.6254\n",
      "Epoch 16/50\n",
      "1200/1200 [==============================] - 536s 446ms/step - loss: 1.1035 - accuracy: 0.6539 - val_loss: 1.2740 - val_accuracy: 0.6225\n",
      "Epoch 17/50\n",
      "1200/1200 [==============================] - 514s 428ms/step - loss: 1.0824 - accuracy: 0.6578 - val_loss: 1.2810 - val_accuracy: 0.6175\n",
      "Epoch 18/50\n",
      "1200/1200 [==============================] - 512s 426ms/step - loss: 1.0690 - accuracy: 0.6666 - val_loss: 1.2676 - val_accuracy: 0.6303\n",
      "Epoch 19/50\n",
      "1200/1200 [==============================] - 510s 425ms/step - loss: 1.0532 - accuracy: 0.6661 - val_loss: 1.3073 - val_accuracy: 0.6233\n",
      "Epoch 20/50\n",
      "1200/1200 [==============================] - 508s 424ms/step - loss: 1.0313 - accuracy: 0.6754 - val_loss: 1.3063 - val_accuracy: 0.6282\n",
      "Epoch 21/50\n",
      "1200/1200 [==============================] - 510s 425ms/step - loss: 1.0274 - accuracy: 0.6755 - val_loss: 1.2964 - val_accuracy: 0.6318\n",
      "Epoch 22/50\n",
      "1200/1200 [==============================] - 512s 427ms/step - loss: 1.0123 - accuracy: 0.6812 - val_loss: 1.2511 - val_accuracy: 0.6399\n",
      "Epoch 23/50\n",
      "1200/1200 [==============================] - 587s 490ms/step - loss: 1.0020 - accuracy: 0.6843 - val_loss: 1.3144 - val_accuracy: 0.6125\n",
      "Epoch 24/50\n",
      "1200/1200 [==============================] - 678s 565ms/step - loss: 0.9859 - accuracy: 0.6911 - val_loss: 1.2775 - val_accuracy: 0.6301\n",
      "Epoch 25/50\n",
      "1200/1200 [==============================] - 659s 549ms/step - loss: 0.9834 - accuracy: 0.6882 - val_loss: 1.2951 - val_accuracy: 0.6306\n",
      "Epoch 26/50\n",
      "1200/1200 [==============================] - 655s 546ms/step - loss: 0.9744 - accuracy: 0.6931 - val_loss: 1.3251 - val_accuracy: 0.6302\n",
      "Epoch 27/50\n",
      "1200/1200 [==============================] - 676s 563ms/step - loss: 0.9581 - accuracy: 0.6960 - val_loss: 1.2483 - val_accuracy: 0.6399\n",
      "Epoch 28/50\n",
      "1200/1200 [==============================] - 664s 553ms/step - loss: 0.9548 - accuracy: 0.6962 - val_loss: 1.2757 - val_accuracy: 0.6464\n",
      "Epoch 29/50\n",
      "1200/1200 [==============================] - 653s 544ms/step - loss: 0.9535 - accuracy: 0.6973 - val_loss: 1.3131 - val_accuracy: 0.6396\n",
      "Epoch 30/50\n",
      "1200/1200 [==============================] - 673s 560ms/step - loss: 0.9382 - accuracy: 0.7015 - val_loss: 1.3276 - val_accuracy: 0.6321\n",
      "Epoch 31/50\n",
      "1200/1200 [==============================] - 673s 561ms/step - loss: 0.9309 - accuracy: 0.7052 - val_loss: 1.3190 - val_accuracy: 0.6366\n",
      "Epoch 32/50\n",
      "1200/1200 [==============================] - 637s 530ms/step - loss: 0.9233 - accuracy: 0.7075 - val_loss: 1.3125 - val_accuracy: 0.6401\n",
      "Epoch 33/50\n",
      "1200/1200 [==============================] - 513s 428ms/step - loss: 0.9123 - accuracy: 0.7106 - val_loss: 1.2772 - val_accuracy: 0.6419\n",
      "Epoch 34/50\n",
      "1200/1200 [==============================] - 517s 430ms/step - loss: 0.9113 - accuracy: 0.7119 - val_loss: 1.3291 - val_accuracy: 0.6378\n",
      "Epoch 35/50\n",
      "1200/1200 [==============================] - 531s 443ms/step - loss: 0.9006 - accuracy: 0.7117 - val_loss: 1.3384 - val_accuracy: 0.6314\n",
      "Epoch 36/50\n",
      "1200/1200 [==============================] - 513s 427ms/step - loss: 0.8977 - accuracy: 0.7149 - val_loss: 1.3336 - val_accuracy: 0.6361\n",
      "Epoch 37/50\n",
      "1200/1200 [==============================] - 513s 427ms/step - loss: 0.8939 - accuracy: 0.7119 - val_loss: 1.3393 - val_accuracy: 0.6422\n",
      "Epoch 38/50\n",
      "1200/1200 [==============================] - 512s 427ms/step - loss: 0.8885 - accuracy: 0.7141 - val_loss: 1.3025 - val_accuracy: 0.6413\n",
      "Epoch 39/50\n",
      "1200/1200 [==============================] - 510s 425ms/step - loss: 0.8808 - accuracy: 0.7187 - val_loss: 1.3192 - val_accuracy: 0.6277\n",
      "Epoch 40/50\n",
      "1200/1200 [==============================] - 510s 425ms/step - loss: 0.8868 - accuracy: 0.7167 - val_loss: 1.3469 - val_accuracy: 0.6394\n",
      "Epoch 41/50\n",
      "1200/1200 [==============================] - 511s 426ms/step - loss: 0.8767 - accuracy: 0.7198 - val_loss: 1.3510 - val_accuracy: 0.6345\n",
      "Epoch 42/50\n"
     ]
    },
    {
     "name": "stdout",
     "output_type": "stream",
     "text": [
      "1200/1200 [==============================] - 510s 425ms/step - loss: 0.8679 - accuracy: 0.7202 - val_loss: 1.3064 - val_accuracy: 0.6414\n",
      "Epoch 43/50\n",
      "1200/1200 [==============================] - 510s 425ms/step - loss: 0.8612 - accuracy: 0.7265 - val_loss: 1.3253 - val_accuracy: 0.6361\n",
      "Epoch 44/50\n",
      "1200/1200 [==============================] - 615s 513ms/step - loss: 0.8609 - accuracy: 0.7249 - val_loss: 1.2835 - val_accuracy: 0.6484\n",
      "Epoch 45/50\n",
      "1200/1200 [==============================] - 643s 536ms/step - loss: 0.8565 - accuracy: 0.7260 - val_loss: 1.3491 - val_accuracy: 0.6352\n",
      "Epoch 46/50\n",
      "1200/1200 [==============================] - 645s 537ms/step - loss: 0.8555 - accuracy: 0.7266 - val_loss: 1.3161 - val_accuracy: 0.6414\n",
      "Epoch 47/50\n",
      "1200/1200 [==============================] - 644s 537ms/step - loss: 0.8561 - accuracy: 0.7250 - val_loss: 1.3175 - val_accuracy: 0.6439\n",
      "Epoch 48/50\n",
      "1200/1200 [==============================] - 647s 539ms/step - loss: 0.8417 - accuracy: 0.7285 - val_loss: 1.3063 - val_accuracy: 0.6404\n",
      "Epoch 49/50\n",
      "1200/1200 [==============================] - 644s 536ms/step - loss: 0.8447 - accuracy: 0.7290 - val_loss: 1.3323 - val_accuracy: 0.6476\n",
      "Epoch 50/50\n",
      "1200/1200 [==============================] - 646s 538ms/step - loss: 0.8379 - accuracy: 0.7292 - val_loss: 1.2728 - val_accuracy: 0.6410\n"
     ]
    },
    {
     "data": {
      "text/plain": [
       "<keras.callbacks.History at 0x226ea62cbe0>"
      ]
     },
     "execution_count": 7,
     "metadata": {},
     "output_type": "execute_result"
    }
   ],
   "source": [
    "cnn_header.fit(X_train,y_train,epochs=50, validation_data=(X_cval,Y_cval))"
   ]
  },
  {
   "cell_type": "code",
   "execution_count": 8,
   "id": "3d6f6c3d",
   "metadata": {},
   "outputs": [],
   "source": [
    "cnn_header.save(\"HEADER_MODEL.h5\")"
   ]
  },
  {
   "cell_type": "code",
   "execution_count": 9,
   "id": "a6c06858",
   "metadata": {},
   "outputs": [],
   "source": [
    "new_path=\"C:/Users/nithi/.jupyter/new_validation\""
   ]
  },
  {
   "cell_type": "code",
   "execution_count": 10,
   "id": "22e27f04",
   "metadata": {},
   "outputs": [],
   "source": [
    "data = range(17801,18701)\n",
    "df = pd.DataFrame(data,columns = ['id'])"
   ]
  },
  {
   "cell_type": "code",
   "execution_count": 11,
   "id": "4c3815e3",
   "metadata": {},
   "outputs": [],
   "source": [
    "X_test = []\n",
    "for i in range(len(df)):\n",
    "    path = os.path.join(new_path,str(df.iloc[i,0]))\n",
    "    path = path.replace(\"\\\\\",\"/\")\n",
    "    path = path+\".tif\"\n",
    "    path=path.replace(\"\\new\",\"/new\")\n",
    "    #path = os.path.join(validation_dir,str(df.iloc[i,0]))\n",
    "    #path = path.replace(\"\\\\\",\"/\")\n",
    "    #path = path + \".tif\"\n",
    "    img = cv2.imread(path)\n",
    "    img = img / 255\n",
    "    resized_img = cv2.resize(img,(128,128))\n",
    "    X_test.append(resized_img)"
   ]
  },
  {
   "cell_type": "code",
   "execution_count": 12,
   "id": "7f19ef97",
   "metadata": {},
   "outputs": [
    {
     "name": "stdout",
     "output_type": "stream",
     "text": [
      "29/29 [==============================] - 3s 82ms/step\n"
     ]
    }
   ],
   "source": [
    "X_test = np.array(X_test)\n",
    "predictions=cnn_header.predict(X_test)"
   ]
  },
  {
   "cell_type": "code",
   "execution_count": 13,
   "id": "b6c1f0fe",
   "metadata": {},
   "outputs": [
    {
     "data": {
      "text/plain": [
       "array([[1.32010100e-04, 9.61062405e-03, 2.93464200e-05, 5.05126501e-03,\n",
       "        8.24992836e-01, 6.69635192e-04, 2.38280538e-02, 6.84968149e-03,\n",
       "        6.25516847e-02, 9.45748854e-03, 2.39959205e-04, 3.22223902e-02,\n",
       "        1.81915220e-02, 5.71632944e-03, 2.87720730e-04, 1.69462146e-04],\n",
       "       [2.50459806e-07, 5.30644797e-07, 3.53912122e-10, 2.15761402e-11,\n",
       "        2.94168490e-09, 3.45280387e-05, 9.99900818e-01, 4.21386342e-10,\n",
       "        2.12838115e-11, 5.33572347e-05, 6.81330221e-07, 1.63334790e-10,\n",
       "        3.51627492e-08, 5.81648010e-06, 3.76071307e-06, 1.73140677e-07],\n",
       "       [1.46575667e-05, 4.83943813e-06, 2.81105625e-11, 8.73980171e-05,\n",
       "        9.95873749e-01, 6.68210032e-06, 5.94496050e-05, 5.34349638e-05,\n",
       "        1.68967701e-03, 7.44482386e-04, 6.48126530e-04, 8.42974114e-05,\n",
       "        3.00502172e-04, 4.21003584e-04, 3.22885096e-09, 1.17309755e-05],\n",
       "       [1.21311587e-03, 1.71983743e-03, 3.87432956e-04, 3.26376059e-03,\n",
       "        5.47800446e-03, 1.50299584e-03, 2.16150982e-03, 3.48035828e-04,\n",
       "        9.54352021e-01, 1.50167767e-03, 2.75163632e-03, 2.83372792e-04,\n",
       "        2.36229505e-03, 1.48720564e-02, 1.44474173e-03, 6.35759719e-03],\n",
       "       [8.45080882e-04, 1.69956656e-05, 1.69999268e-07, 9.98934567e-01,\n",
       "        1.41984390e-06, 9.06304485e-05, 1.14861678e-06, 5.73684851e-08,\n",
       "        1.00687812e-05, 6.17617252e-06, 7.54001093e-08, 1.24792932e-05,\n",
       "        7.39566603e-05, 3.05312074e-06, 2.52100790e-06, 1.68250006e-06],\n",
       "       [1.90652645e-04, 8.08385739e-05, 2.94472761e-02, 5.31629667e-05,\n",
       "        1.92346313e-04, 6.06750036e-05, 5.95346210e-04, 5.22833761e-05,\n",
       "        9.66400862e-01, 4.53744469e-05, 1.63476670e-03, 8.87601054e-05,\n",
       "        6.23897824e-04, 2.49480247e-04, 1.45324302e-04, 1.38885138e-04],\n",
       "       [1.19003858e-02, 1.18878260e-02, 3.83637052e-05, 1.53758060e-02,\n",
       "        2.90182303e-03, 7.97131732e-02, 3.06539913e-03, 5.60779637e-03,\n",
       "        1.85090452e-04, 3.16638849e-04, 4.28888023e-01, 6.69651702e-02,\n",
       "        2.49357652e-02, 7.65816867e-03, 6.04161434e-03, 3.34518969e-01],\n",
       "       [2.25361946e-04, 2.10254654e-01, 2.47100601e-03, 7.73630664e-02,\n",
       "        4.21212055e-03, 1.71116611e-03, 3.15394427e-04, 6.80296682e-03,\n",
       "        5.92673663e-03, 6.66625283e-06, 1.32253580e-02, 6.60313547e-01,\n",
       "        1.34744536e-04, 1.36867650e-02, 3.29151214e-03, 5.89756673e-05],\n",
       "       [3.68458708e-03, 1.12643407e-03, 9.69644487e-01, 3.36092617e-03,\n",
       "        3.43986554e-03, 2.90553691e-03, 1.95764405e-05, 3.10422649e-04,\n",
       "        2.43931368e-04, 1.22955861e-03, 1.17914134e-03, 4.33973473e-04,\n",
       "        7.44821830e-03, 2.77033914e-03, 1.72003114e-03, 4.82967065e-04],\n",
       "       [3.28358487e-06, 2.81394518e-04, 1.30567920e-13, 7.68307713e-04,\n",
       "        9.84827638e-01, 9.33285628e-04, 1.65204008e-04, 1.95011103e-06,\n",
       "        3.51541280e-03, 2.79107247e-03, 2.09196014e-06, 2.21877592e-04,\n",
       "        6.45639049e-03, 3.18247039e-05, 2.61980615e-09, 2.21817160e-07]],\n",
       "      dtype=float32)"
      ]
     },
     "execution_count": 13,
     "metadata": {},
     "output_type": "execute_result"
    }
   ],
   "source": [
    "predictions[:10]"
   ]
  },
  {
   "cell_type": "code",
   "execution_count": 14,
   "id": "2ec531c0",
   "metadata": {},
   "outputs": [
    {
     "data": {
      "text/plain": [
       "[4, 6, 4, 8, 3, 8, 10, 11, 2, 4]"
      ]
     },
     "execution_count": 14,
     "metadata": {},
     "output_type": "execute_result"
    }
   ],
   "source": [
    "y_classes_1 = [np.argmax(element) for element in predictions]\n",
    "y_classes_1[:10]"
   ]
  },
  {
   "cell_type": "code",
   "execution_count": 15,
   "id": "b67dad0d",
   "metadata": {},
   "outputs": [],
   "source": [
    "df3 = pd.DataFrame(y_classes_1,columns = ['label'])\n",
    "result_1 = pd.concat([df, df3], axis=1)\n",
    "result_1.set_index('id',inplace = True)\n",
    "result_1.to_csv(\"C:/Users/nithi/.jupyter/header_results.csv\")"
   ]
  },
  {
   "cell_type": "code",
   "execution_count": null,
   "id": "4b885547",
   "metadata": {},
   "outputs": [],
   "source": []
  }
 ],
 "metadata": {
  "kernelspec": {
   "display_name": "Python 3",
   "language": "python",
   "name": "python3"
  },
  "language_info": {
   "codemirror_mode": {
    "name": "ipython",
    "version": 3
   },
   "file_extension": ".py",
   "mimetype": "text/x-python",
   "name": "python",
   "nbconvert_exporter": "python",
   "pygments_lexer": "ipython3",
   "version": "3.8.8"
  }
 },
 "nbformat": 4,
 "nbformat_minor": 5
}
