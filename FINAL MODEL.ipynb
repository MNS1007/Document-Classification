{
 "cells": [
  {
   "cell_type": "code",
   "execution_count": 1,
   "id": "5c29d418",
   "metadata": {},
   "outputs": [],
   "source": [
    "import pandas as pd\n",
    "import numpy as np\n",
    "import os\n",
    "import tensorflow as tf\n",
    "import keras\n",
    "import cv2\n",
    "from tensorflow.keras import datasets,layers,models\n",
    "import matplotlib.pyplot as plt\n",
    "import matplotlib.image as mpimg\n",
    "import pickle"
   ]
  },
  {
   "cell_type": "code",
   "execution_count": 3,
   "id": "5e9e6b78",
   "metadata": {},
   "outputs": [],
   "source": [
    "X_train=np.load(\"total_features.npy\")\n",
    "y_train=np.load(\"y_final_train.npy\")\n",
    "X_train_cval=np.load(\"total_features_cval.npy\")\n",
    "y_cval=np.load(\"y_final_cval.npy\")"
   ]
  },
  {
   "cell_type": "code",
   "execution_count": 26,
   "id": "50e52bc6",
   "metadata": {},
   "outputs": [
    {
     "data": {
      "text/plain": [
       "(38400, 80)"
      ]
     },
     "execution_count": 26,
     "metadata": {},
     "output_type": "execute_result"
    }
   ],
   "source": [
    "X_train.shape"
   ]
  },
  {
   "cell_type": "code",
   "execution_count": 28,
   "id": "8d20fa99",
   "metadata": {},
   "outputs": [
    {
     "data": {
      "text/plain": [
       "(9600, 80)"
      ]
     },
     "execution_count": 28,
     "metadata": {},
     "output_type": "execute_result"
    }
   ],
   "source": [
    "X_train_cval.shape"
   ]
  },
  {
   "cell_type": "code",
   "execution_count": 5,
   "id": "5ed2dbd8",
   "metadata": {},
   "outputs": [
    {
     "data": {
      "text/plain": [
       "(38400, 80)"
      ]
     },
     "execution_count": 5,
     "metadata": {},
     "output_type": "execute_result"
    }
   ],
   "source": [
    "X_train.shape"
   ]
  },
  {
   "cell_type": "code",
   "execution_count": 29,
   "id": "9636e938",
   "metadata": {},
   "outputs": [
    {
     "data": {
      "text/plain": [
       "80"
      ]
     },
     "execution_count": 29,
     "metadata": {},
     "output_type": "execute_result"
    }
   ],
   "source": [
    "X_train.shape[1]"
   ]
  },
  {
   "cell_type": "code",
   "execution_count": 8,
   "id": "ea909675",
   "metadata": {},
   "outputs": [],
   "source": [
    "from keras.models import Sequential"
   ]
  },
  {
   "cell_type": "code",
   "execution_count": 10,
   "id": "8b2429c2",
   "metadata": {},
   "outputs": [],
   "source": [
    "from keras.layers import Input, Dropout, Flatten, Conv2D, MaxPooling2D, Dense, Activation\n"
   ]
  },
  {
   "cell_type": "code",
   "execution_count": 14,
   "id": "92e61b5c",
   "metadata": {},
   "outputs": [],
   "source": [
    "from keras.layers import normalization"
   ]
  },
  {
   "cell_type": "code",
   "execution_count": 38,
   "id": "4fc46dd6",
   "metadata": {},
   "outputs": [],
   "source": [
    "from tensorflow.keras.layers import BatchNormalization"
   ]
  },
  {
   "cell_type": "code",
   "execution_count": 39,
   "id": "bced81e2",
   "metadata": {},
   "outputs": [],
   "source": [
    "final_model = Sequential()\n",
    "final_model.add(Dense(512, activation='relu', input_shape=(X_train.shape[1],)))\n",
    "final_model.add(Dropout(0.50))\n",
    "final_model.add(BatchNormalization())\n",
    "final_model.add(Dense(256, activation='relu'))\n",
    "final_model.add(Dropout(0.50))\n",
    "final_model.add(Dense(16, activation='softmax'))"
   ]
  },
  {
   "cell_type": "code",
   "execution_count": 40,
   "id": "d3159d0a",
   "metadata": {},
   "outputs": [],
   "source": [
    "final_model.compile(optimizer=\"adam\", loss='sparse_categorical_crossentropy', metrics=['accuracy'])"
   ]
  },
  {
   "cell_type": "code",
   "execution_count": 42,
   "id": "1f5ce93d",
   "metadata": {},
   "outputs": [
    {
     "name": "stdout",
     "output_type": "stream",
     "text": [
      "Epoch 1/50\n",
      "1200/1200 [==============================] - 6s 5ms/step - loss: 0.3919 - accuracy: 0.8878 - val_loss: 1.2693 - val_accuracy: 0.7044\n",
      "Epoch 2/50\n",
      "1200/1200 [==============================] - 6s 5ms/step - loss: 0.3870 - accuracy: 0.8883 - val_loss: 1.2689 - val_accuracy: 0.7048\n",
      "Epoch 3/50\n",
      "1200/1200 [==============================] - 5s 5ms/step - loss: 0.3855 - accuracy: 0.8878 - val_loss: 1.3120 - val_accuracy: 0.7030\n",
      "Epoch 4/50\n",
      "1200/1200 [==============================] - 6s 5ms/step - loss: 0.3810 - accuracy: 0.8883 - val_loss: 1.3265 - val_accuracy: 0.7002\n",
      "Epoch 5/50\n",
      "1200/1200 [==============================] - 6s 5ms/step - loss: 0.3786 - accuracy: 0.8877 - val_loss: 1.3494 - val_accuracy: 0.7034\n",
      "Epoch 6/50\n",
      "1200/1200 [==============================] - 6s 5ms/step - loss: 0.3737 - accuracy: 0.8909 - val_loss: 1.3292 - val_accuracy: 0.7036\n",
      "Epoch 7/50\n",
      "1200/1200 [==============================] - 6s 5ms/step - loss: 0.3748 - accuracy: 0.8898 - val_loss: 1.3319 - val_accuracy: 0.7032\n",
      "Epoch 8/50\n",
      "1200/1200 [==============================] - 6s 5ms/step - loss: 0.3702 - accuracy: 0.8906 - val_loss: 1.3534 - val_accuracy: 0.7045\n",
      "Epoch 9/50\n",
      "1200/1200 [==============================] - 5s 4ms/step - loss: 0.3633 - accuracy: 0.8931 - val_loss: 1.3892 - val_accuracy: 0.7027\n",
      "Epoch 10/50\n",
      "1200/1200 [==============================] - 6s 5ms/step - loss: 0.3652 - accuracy: 0.8899 - val_loss: 1.3447 - val_accuracy: 0.7034\n",
      "Epoch 11/50\n",
      "1200/1200 [==============================] - 6s 5ms/step - loss: 0.3629 - accuracy: 0.8913 - val_loss: 1.3601 - val_accuracy: 0.7024\n",
      "Epoch 12/50\n",
      "1200/1200 [==============================] - 6s 5ms/step - loss: 0.3589 - accuracy: 0.8922 - val_loss: 1.3725 - val_accuracy: 0.7051\n",
      "Epoch 13/50\n",
      "1200/1200 [==============================] - 6s 5ms/step - loss: 0.3586 - accuracy: 0.8919 - val_loss: 1.3736 - val_accuracy: 0.7007\n",
      "Epoch 14/50\n",
      "1200/1200 [==============================] - 5s 4ms/step - loss: 0.3558 - accuracy: 0.8927 - val_loss: 1.3658 - val_accuracy: 0.7005\n",
      "Epoch 15/50\n",
      "1200/1200 [==============================] - 6s 5ms/step - loss: 0.3490 - accuracy: 0.8951 - val_loss: 1.4107 - val_accuracy: 0.7011\n",
      "Epoch 16/50\n",
      "1200/1200 [==============================] - 6s 5ms/step - loss: 0.3490 - accuracy: 0.8933 - val_loss: 1.3948 - val_accuracy: 0.7043\n",
      "Epoch 17/50\n",
      "1200/1200 [==============================] - 6s 5ms/step - loss: 0.3505 - accuracy: 0.8942 - val_loss: 1.4331 - val_accuracy: 0.7017\n",
      "Epoch 18/50\n",
      "1200/1200 [==============================] - 6s 5ms/step - loss: 0.3471 - accuracy: 0.8935 - val_loss: 1.3995 - val_accuracy: 0.7050\n",
      "Epoch 19/50\n",
      "1200/1200 [==============================] - 6s 5ms/step - loss: 0.3443 - accuracy: 0.8962 - val_loss: 1.4381 - val_accuracy: 0.7054\n",
      "Epoch 20/50\n",
      "1200/1200 [==============================] - 6s 5ms/step - loss: 0.3408 - accuracy: 0.8968 - val_loss: 1.4260 - val_accuracy: 0.7027\n",
      "Epoch 21/50\n",
      "1200/1200 [==============================] - 6s 5ms/step - loss: 0.3430 - accuracy: 0.8958 - val_loss: 1.3884 - val_accuracy: 0.7049\n",
      "Epoch 22/50\n",
      "1200/1200 [==============================] - 6s 5ms/step - loss: 0.3405 - accuracy: 0.8965 - val_loss: 1.3884 - val_accuracy: 0.7040\n",
      "Epoch 23/50\n",
      "1200/1200 [==============================] - 6s 5ms/step - loss: 0.3375 - accuracy: 0.8971 - val_loss: 1.4498 - val_accuracy: 0.7022\n",
      "Epoch 24/50\n",
      "1200/1200 [==============================] - 6s 5ms/step - loss: 0.3392 - accuracy: 0.8969 - val_loss: 1.3870 - val_accuracy: 0.7007\n",
      "Epoch 25/50\n",
      "1200/1200 [==============================] - 7s 6ms/step - loss: 0.3364 - accuracy: 0.8974 - val_loss: 1.4158 - val_accuracy: 0.7015\n",
      "Epoch 26/50\n",
      "1200/1200 [==============================] - 6s 5ms/step - loss: 0.3364 - accuracy: 0.8955 - val_loss: 1.4377 - val_accuracy: 0.7026\n",
      "Epoch 27/50\n",
      "1200/1200 [==============================] - 6s 5ms/step - loss: 0.3340 - accuracy: 0.8985 - val_loss: 1.4192 - val_accuracy: 0.7036\n",
      "Epoch 28/50\n",
      "1200/1200 [==============================] - 6s 5ms/step - loss: 0.3305 - accuracy: 0.8968 - val_loss: 1.4565 - val_accuracy: 0.7019\n",
      "Epoch 29/50\n",
      "1200/1200 [==============================] - 6s 5ms/step - loss: 0.3289 - accuracy: 0.8995 - val_loss: 1.4217 - val_accuracy: 0.7044\n",
      "Epoch 30/50\n",
      "1200/1200 [==============================] - 6s 5ms/step - loss: 0.3280 - accuracy: 0.8992 - val_loss: 1.3629 - val_accuracy: 0.7048\n",
      "Epoch 31/50\n",
      "1200/1200 [==============================] - 6s 5ms/step - loss: 0.3302 - accuracy: 0.8986 - val_loss: 1.4210 - val_accuracy: 0.7039\n",
      "Epoch 32/50\n",
      "1200/1200 [==============================] - 6s 5ms/step - loss: 0.3246 - accuracy: 0.9002 - val_loss: 1.4914 - val_accuracy: 0.7027\n",
      "Epoch 33/50\n",
      "1200/1200 [==============================] - 6s 5ms/step - loss: 0.3275 - accuracy: 0.8986 - val_loss: 1.4564 - val_accuracy: 0.7007\n",
      "Epoch 34/50\n",
      "1200/1200 [==============================] - 6s 5ms/step - loss: 0.3209 - accuracy: 0.8995 - val_loss: 1.4680 - val_accuracy: 0.7027\n",
      "Epoch 35/50\n",
      "1200/1200 [==============================] - 6s 5ms/step - loss: 0.3205 - accuracy: 0.9002 - val_loss: 1.4822 - val_accuracy: 0.7009\n",
      "Epoch 36/50\n",
      "1200/1200 [==============================] - 5s 5ms/step - loss: 0.3207 - accuracy: 0.9016 - val_loss: 1.5425 - val_accuracy: 0.6997\n",
      "Epoch 37/50\n",
      "1200/1200 [==============================] - 6s 5ms/step - loss: 0.3184 - accuracy: 0.9015 - val_loss: 1.4331 - val_accuracy: 0.7016\n",
      "Epoch 38/50\n",
      "1200/1200 [==============================] - 6s 5ms/step - loss: 0.3191 - accuracy: 0.9011 - val_loss: 1.4708 - val_accuracy: 0.7026\n",
      "Epoch 39/50\n",
      "1200/1200 [==============================] - 6s 5ms/step - loss: 0.3165 - accuracy: 0.9017 - val_loss: 1.4642 - val_accuracy: 0.7031\n",
      "Epoch 40/50\n",
      "1200/1200 [==============================] - 6s 5ms/step - loss: 0.3158 - accuracy: 0.9017 - val_loss: 1.4569 - val_accuracy: 0.7028\n",
      "Epoch 41/50\n",
      "1200/1200 [==============================] - 6s 5ms/step - loss: 0.3140 - accuracy: 0.9020 - val_loss: 1.5725 - val_accuracy: 0.7046\n",
      "Epoch 42/50\n",
      "1200/1200 [==============================] - 6s 5ms/step - loss: 0.3105 - accuracy: 0.9019 - val_loss: 1.5126 - val_accuracy: 0.7009\n",
      "Epoch 43/50\n",
      "1200/1200 [==============================] - 6s 5ms/step - loss: 0.3137 - accuracy: 0.9009 - val_loss: 1.4947 - val_accuracy: 0.7035\n",
      "Epoch 44/50\n",
      "1200/1200 [==============================] - 6s 5ms/step - loss: 0.3136 - accuracy: 0.9013 - val_loss: 1.4780 - val_accuracy: 0.7024\n",
      "Epoch 45/50\n",
      "1200/1200 [==============================] - 6s 5ms/step - loss: 0.3126 - accuracy: 0.9025 - val_loss: 1.5227 - val_accuracy: 0.7010\n",
      "Epoch 46/50\n",
      "1200/1200 [==============================] - 6s 5ms/step - loss: 0.3115 - accuracy: 0.9029 - val_loss: 1.5557 - val_accuracy: 0.6999\n",
      "Epoch 47/50\n",
      "1200/1200 [==============================] - 6s 5ms/step - loss: 0.3106 - accuracy: 0.9022 - val_loss: 1.4974 - val_accuracy: 0.7018\n",
      "Epoch 48/50\n",
      "1200/1200 [==============================] - 6s 5ms/step - loss: 0.3089 - accuracy: 0.9034 - val_loss: 1.6075 - val_accuracy: 0.7034\n",
      "Epoch 49/50\n",
      "1200/1200 [==============================] - 6s 5ms/step - loss: 0.3094 - accuracy: 0.9031 - val_loss: 1.5396 - val_accuracy: 0.7015\n",
      "Epoch 50/50\n",
      "1200/1200 [==============================] - 6s 5ms/step - loss: 0.3060 - accuracy: 0.9035 - val_loss: 1.5404 - val_accuracy: 0.7024\n"
     ]
    },
    {
     "data": {
      "text/plain": [
       "<keras.callbacks.History at 0x1b5f5b5a8b0>"
      ]
     },
     "execution_count": 42,
     "metadata": {},
     "output_type": "execute_result"
    }
   ],
   "source": [
    "final_model.fit(X_train,y_train,epochs=50, validation_data=(X_train_cval,y_cval))"
   ]
  },
  {
   "cell_type": "code",
   "execution_count": 44,
   "id": "0db65c04",
   "metadata": {},
   "outputs": [],
   "source": [
    "new_path=\"C:/Users/nithi/.jupyter/new_validation\""
   ]
  },
  {
   "cell_type": "code",
   "execution_count": 45,
   "id": "98712adf",
   "metadata": {},
   "outputs": [],
   "source": [
    "import pandas as pd\n",
    "data = range(17801,18701)\n",
    "df = pd.DataFrame(data,columns = ['id'])"
   ]
  },
  {
   "cell_type": "code",
   "execution_count": 46,
   "id": "dce01351",
   "metadata": {},
   "outputs": [],
   "source": [
    "X_test = []\n",
    "for i in range(len(df)):\n",
    "    path = os.path.join(new_path,str(df.iloc[i,0]))\n",
    "    path = path.replace(\"\\\\\",\"/\")\n",
    "    path = path+\".tif\"\n",
    "    path=path.replace(\"\\new\",\"/new\")\n",
    "    #path = os.path.join(validation_dir,str(df.iloc[i,0]))\n",
    "    #path = path.replace(\"\\\\\",\"/\")\n",
    "    #path = path + \".tif\"\n",
    "    img = cv2.imread(path)\n",
    "    img = img / 255\n",
    "    resized_img = cv2.resize(img,(128,128))\n",
    "    X_test.append(resized_img)"
   ]
  },
  {
   "cell_type": "code",
   "execution_count": 47,
   "id": "4679abea",
   "metadata": {},
   "outputs": [],
   "source": [
    "X_test = np.array(X_test)"
   ]
  },
  {
   "cell_type": "code",
   "execution_count": 48,
   "id": "4eefed73",
   "metadata": {},
   "outputs": [],
   "source": [
    "model_header=tf.keras.models.load_model(\"HEADER_MODEL.h5\")\n",
    "model_footer=tf.keras.models.load_model(\"BOTTOM_MODEL.h5\")\n",
    "model_left=tf.keras.models.load_model(\"LEFT_MODEL.h5\")\n",
    "model_right=tf.keras.models.load_model(\"RIGHT_MODEL.h5\")\n",
    "model_whole=tf.keras.models.load_model(\"full_image_model.h5\")"
   ]
  },
  {
   "cell_type": "code",
   "execution_count": 49,
   "id": "f9fc07f3",
   "metadata": {},
   "outputs": [
    {
     "name": "stdout",
     "output_type": "stream",
     "text": [
      "29/29 [==============================] - 4s 141ms/step\n",
      "29/29 [==============================] - 4s 119ms/step\n",
      "29/29 [==============================] - 4s 122ms/step\n",
      "29/29 [==============================] - 4s 123ms/step\n",
      "29/29 [==============================] - 4s 121ms/step\n"
     ]
    }
   ],
   "source": [
    "feature_top_test=model_header.predict(X_test)\n",
    "feature_bottom_test=model_footer.predict(X_test)\n",
    "feature_left_test=model_left.predict(X_test)\n",
    "feature_right_test=model_right.predict(X_test)\n",
    "feature_whole_test=model_whole.predict(X_test)"
   ]
  },
  {
   "cell_type": "code",
   "execution_count": 50,
   "id": "beec7cf4",
   "metadata": {},
   "outputs": [],
   "source": [
    "total_features_test=np.hstack((feature_top_test,feature_bottom_test,feature_left_test,feature_right_test,feature_whole_test))"
   ]
  },
  {
   "cell_type": "code",
   "execution_count": 51,
   "id": "33fe3b43",
   "metadata": {},
   "outputs": [
    {
     "name": "stdout",
     "output_type": "stream",
     "text": [
      "29/29 [==============================] - 0s 4ms/step\n"
     ]
    }
   ],
   "source": [
    "predictions=final_model.predict(total_features_test)"
   ]
  },
  {
   "cell_type": "code",
   "execution_count": 54,
   "id": "b3a12601",
   "metadata": {},
   "outputs": [
    {
     "data": {
      "text/plain": [
       "[4, 6, 4, 8, 3, 8, 10, 3, 2, 4, 0, 15, 5, 12, 14, 9, 13, 1, 9, 12]"
      ]
     },
     "execution_count": 54,
     "metadata": {},
     "output_type": "execute_result"
    }
   ],
   "source": [
    "y_classes_1 = [np.argmax(element) for element in predictions]\n",
    "y_classes_1[:20]"
   ]
  },
  {
   "cell_type": "code",
   "execution_count": 55,
   "id": "433fbca7",
   "metadata": {},
   "outputs": [
    {
     "data": {
      "text/plain": [
       "[4, 6, 4, 8, 3, 8, 12, 3, 2, 4, 7, 15, 12, 12, 14, 9, 13, 11, 9, 12]"
      ]
     },
     "execution_count": 55,
     "metadata": {},
     "output_type": "execute_result"
    }
   ],
   "source": [
    "y_classes_2 = [np.argmax(element) for element in feature_left_test]\n",
    "y_classes_2[:20]"
   ]
  },
  {
   "cell_type": "code",
   "execution_count": 56,
   "id": "a445f295",
   "metadata": {},
   "outputs": [],
   "source": [
    "df3 = pd.DataFrame(y_classes_1,columns = ['label'])\n",
    "result_1 = pd.concat([df, df3], axis=1)\n",
    "result_1.set_index('id',inplace = True)\n",
    "result_1.to_csv(\"C:/Users/nithi/.jupyter/new_final.csv\")"
   ]
  },
  {
   "cell_type": "code",
   "execution_count": 57,
   "id": "beeddb02",
   "metadata": {},
   "outputs": [
    {
     "data": {
      "text/html": [
       "<div>\n",
       "<style scoped>\n",
       "    .dataframe tbody tr th:only-of-type {\n",
       "        vertical-align: middle;\n",
       "    }\n",
       "\n",
       "    .dataframe tbody tr th {\n",
       "        vertical-align: top;\n",
       "    }\n",
       "\n",
       "    .dataframe thead th {\n",
       "        text-align: right;\n",
       "    }\n",
       "</style>\n",
       "<table border=\"1\" class=\"dataframe\">\n",
       "  <thead>\n",
       "    <tr style=\"text-align: right;\">\n",
       "      <th></th>\n",
       "      <th>label</th>\n",
       "    </tr>\n",
       "    <tr>\n",
       "      <th>id</th>\n",
       "      <th></th>\n",
       "    </tr>\n",
       "  </thead>\n",
       "  <tbody>\n",
       "    <tr>\n",
       "      <th>17801</th>\n",
       "      <td>4</td>\n",
       "    </tr>\n",
       "    <tr>\n",
       "      <th>17802</th>\n",
       "      <td>6</td>\n",
       "    </tr>\n",
       "    <tr>\n",
       "      <th>17803</th>\n",
       "      <td>4</td>\n",
       "    </tr>\n",
       "    <tr>\n",
       "      <th>17804</th>\n",
       "      <td>8</td>\n",
       "    </tr>\n",
       "    <tr>\n",
       "      <th>17805</th>\n",
       "      <td>3</td>\n",
       "    </tr>\n",
       "    <tr>\n",
       "      <th>...</th>\n",
       "      <td>...</td>\n",
       "    </tr>\n",
       "    <tr>\n",
       "      <th>18696</th>\n",
       "      <td>1</td>\n",
       "    </tr>\n",
       "    <tr>\n",
       "      <th>18697</th>\n",
       "      <td>12</td>\n",
       "    </tr>\n",
       "    <tr>\n",
       "      <th>18698</th>\n",
       "      <td>8</td>\n",
       "    </tr>\n",
       "    <tr>\n",
       "      <th>18699</th>\n",
       "      <td>3</td>\n",
       "    </tr>\n",
       "    <tr>\n",
       "      <th>18700</th>\n",
       "      <td>4</td>\n",
       "    </tr>\n",
       "  </tbody>\n",
       "</table>\n",
       "<p>900 rows × 1 columns</p>\n",
       "</div>"
      ],
      "text/plain": [
       "       label\n",
       "id          \n",
       "17801      4\n",
       "17802      6\n",
       "17803      4\n",
       "17804      8\n",
       "17805      3\n",
       "...      ...\n",
       "18696      1\n",
       "18697     12\n",
       "18698      8\n",
       "18699      3\n",
       "18700      4\n",
       "\n",
       "[900 rows x 1 columns]"
      ]
     },
     "execution_count": 57,
     "metadata": {},
     "output_type": "execute_result"
    }
   ],
   "source": [
    "result_1"
   ]
  },
  {
   "cell_type": "code",
   "execution_count": null,
   "id": "17df0252",
   "metadata": {},
   "outputs": [],
   "source": []
  }
 ],
 "metadata": {
  "kernelspec": {
   "display_name": "Python 3",
   "language": "python",
   "name": "python3"
  },
  "language_info": {
   "codemirror_mode": {
    "name": "ipython",
    "version": 3
   },
   "file_extension": ".py",
   "mimetype": "text/x-python",
   "name": "python",
   "nbconvert_exporter": "python",
   "pygments_lexer": "ipython3",
   "version": "3.8.8"
  }
 },
 "nbformat": 4,
 "nbformat_minor": 5
}
