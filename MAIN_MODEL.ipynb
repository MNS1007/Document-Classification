{
 "cells": [
  {
   "cell_type": "code",
   "execution_count": null,
   "id": "5e01b63a",
   "metadata": {},
   "outputs": [],
   "source": [
    "import pandas as pd\n",
    "import numpy as np\n",
    "import os\n",
    "import tensorflow as tf\n",
    "import keras\n",
    "import cv2\n",
    "from tensorflow.keras import datasets,layers,models\n",
    "import matplotlib.pyplot as plt\n",
    "import matplotlib.image as mpimg\n",
    "import pickle"
   ]
  },
  {
   "cell_type": "code",
   "execution_count": null,
   "id": "c4b9c0d6",
   "metadata": {},
   "outputs": [],
   "source": [
    "X_train=np.load(\"temp.npy\")\n",
    "y_train=np.load(\"y_final_train.npy\")\n",
    "X_cval=np.load(\"temp_cval.npy\")\n",
    "Y_cval=np.load(\"y_final_cval.npy\")"
   ]
  },
  {
   "cell_type": "code",
   "execution_count": null,
   "id": "e00f94d7",
   "metadata": {},
   "outputs": [],
   "source": [
    "y_train=np.load(\"y_final_train.npy\")\n",
    "X_cval=np.load(\"temp_cval.npy\")\n",
    "Y_cval=np.load(\"y_final_cval.npy\")"
   ]
  },
  {
   "cell_type": "code",
   "execution_count": null,
   "id": "f8c8f2ee",
   "metadata": {},
   "outputs": [],
   "source": [
    "data_augmentation = keras.Sequential([\n",
    "    layers.experimental.preprocessing.RandomZoom(0.1),\n",
    "    layers.experimental.preprocessing.RandomContrast(0.7),\n",
    "    \n",
    "])"
   ]
  },
  {
   "cell_type": "code",
   "execution_count": null,
   "id": "f2ad87c5",
   "metadata": {},
   "outputs": [],
   "source": [
    "cnn_whole_model= models.Sequential([\n",
    "    data_augmentation,\n",
    "    # cnn\n",
    "    layers.Conv2D(filters = 32,kernel_size = (3,3),activation = 'relu',input_shape = (128,128,3),padding = 'same'),\n",
    "    layers.MaxPooling2D((2,2)),\n",
    "    \n",
    "    layers.Conv2D(filters = 32,kernel_size = (3,3),activation = 'relu',input_shape = (128,128,3),padding = 'same'),\n",
    "    layers.MaxPooling2D((2,2)),\n",
    "    \n",
    "    layers.Conv2D(filters = 32,kernel_size = (3,3),activation = 'relu',input_shape = (128,128,3),padding = 'same'),\n",
    "    layers.MaxPooling2D((2,2)),\n",
    "    \n",
    "    layers.Conv2D(filters = 32,kernel_size = (3,3),activation = 'relu',input_shape = (128,128,3),padding = 'same'),\n",
    "    layers.MaxPooling2D((2,2)),\n",
    "    \n",
    "    #layers.Conv2D(filters = 32,kernel_size = (3,3),activation = 'relu',input_shape = (128,128,3),padding = 'same'),\n",
    "    #layers.MaxPooling2D((2,2)),\n",
    "    \n",
    "    #layers.Conv2D(filters = 32,kernel_size = (3,3),activation = 'relu',input_shape = (128,128,3),padding = 'same'),\n",
    "    #layers.MaxPooling2D((2,2)),\n",
    "    \n",
    "    layers.Dropout(0.2),\n",
    "    \n",
    "    # dense\n",
    "    layers.Flatten(),\n",
    "    layers.Dense(64,activation = \"relu\"),\n",
    "    #layers.Dense(64,activation = \"relu\"),\n",
    "    layers.Dense(16,activation = 'softmax')\n",
    "]\n",
    ")"
   ]
  },
  {
   "cell_type": "code",
   "execution_count": null,
   "id": "25c14909",
   "metadata": {},
   "outputs": [],
   "source": [
    "cnn_whole_model.compile(\n",
    "    optimizer='adam',\n",
    "    loss=\"sparse_categorical_crossentropy\",\n",
    "    metrics=\"accuracy\"   \n",
    ")"
   ]
  },
  {
   "cell_type": "code",
   "execution_count": null,
   "id": "19f4bfe6",
   "metadata": {},
   "outputs": [],
   "source": [
    "dataset = tf.data.Dataset.from_tensors(X_train)"
   ]
  },
  {
   "cell_type": "code",
   "execution_count": null,
   "id": "51ecb753",
   "metadata": {},
   "outputs": [],
   "source": [
    "dataset"
   ]
  },
  {
   "cell_type": "code",
   "execution_count": null,
   "id": "82f29510",
   "metadata": {},
   "outputs": [],
   "source": [
    "cnn_whole_model.fit(X_train.astype(\"float16\"),y_train,epochs=50, validation_data=(X_cval,Y_cval),batch_size=32)"
   ]
  },
  {
   "cell_type": "code",
   "execution_count": null,
   "id": "65a92aaa",
   "metadata": {},
   "outputs": [],
   "source": []
  },
  {
   "cell_type": "code",
   "execution_count": null,
   "id": "68a0dc74",
   "metadata": {},
   "outputs": [],
   "source": [
    "cnn_whole_model.save(\"full_image_model_big.h5\")"
   ]
  },
  {
   "cell_type": "code",
   "execution_count": null,
   "id": "1bd4d6b4",
   "metadata": {},
   "outputs": [],
   "source": [
    "new_path=\"C:/Users/nithi/.jupyter/new_validation\""
   ]
  },
  {
   "cell_type": "code",
   "execution_count": null,
   "id": "0a6bab27",
   "metadata": {},
   "outputs": [],
   "source": [
    "import pandas as pd\n",
    "data = range(17801,18701)\n",
    "df = pd.DataFrame(data,columns = ['id'])"
   ]
  },
  {
   "cell_type": "code",
   "execution_count": null,
   "id": "94201a7d",
   "metadata": {},
   "outputs": [],
   "source": [
    "X_test = []\n",
    "for i in range(len(df)):\n",
    "    path = os.path.join(new_path,str(df.iloc[i,0]))\n",
    "    path = path.replace(\"\\\\\",\"/\")\n",
    "    path = path+\".tif\"\n",
    "    path=path.replace(\"\\new\",\"/new\")\n",
    "    #path = os.path.join(validation_dir,str(df.iloc[i,0]))\n",
    "    #path = path.replace(\"\\\\\",\"/\")\n",
    "    #path = path + \".tif\"\n",
    "    img = cv2.imread(path)\n",
    "    img = img / 255\n",
    "    resized_img = cv2.resize(img,(256,256))\n",
    "    X_test.append(resized_img)"
   ]
  },
  {
   "cell_type": "code",
   "execution_count": null,
   "id": "58a780be",
   "metadata": {},
   "outputs": [],
   "source": [
    "X_test = np.array(X_test)\n",
    "predictions=cnn_whole_model.predict(X_test)"
   ]
  },
  {
   "cell_type": "code",
   "execution_count": null,
   "id": "d0951478",
   "metadata": {},
   "outputs": [],
   "source": [
    "predictions[:10]"
   ]
  },
  {
   "cell_type": "code",
   "execution_count": null,
   "id": "ec56727e",
   "metadata": {},
   "outputs": [],
   "source": [
    "y_classes_1 = [np.argmax(element) for element in predictions]\n",
    "y_classes_1[:10]"
   ]
  },
  {
   "cell_type": "code",
   "execution_count": null,
   "id": "77a4adf1",
   "metadata": {},
   "outputs": [],
   "source": [
    "df3 = pd.DataFrame(y_classes_1,columns = ['label'])\n",
    "result_1 = pd.concat([df, df3], axis=1)\n",
    "result_1.set_index('id',inplace = True)\n",
    "result_1.to_csv(\"C:/Users/nithi/.jupyter/whole_image_big.csv\")"
   ]
  },
  {
   "cell_type": "code",
   "execution_count": null,
   "id": "25a1e0de",
   "metadata": {},
   "outputs": [],
   "source": [
    "result_1[\"label\"].values"
   ]
  },
  {
   "cell_type": "code",
   "execution_count": null,
   "id": "7761f5ce",
   "metadata": {},
   "outputs": [],
   "source": [
    "#check=tf.keras.models.load_model(\"full_image_model.h5\")"
   ]
  },
  {
   "cell_type": "code",
   "execution_count": null,
   "id": "22237f7d",
   "metadata": {},
   "outputs": [],
   "source": [
    "#new_predictions=check.predict(X_test)"
   ]
  },
  {
   "cell_type": "code",
   "execution_count": null,
   "id": "31b5df04",
   "metadata": {},
   "outputs": [],
   "source": [
    "#new_predictions"
   ]
  },
  {
   "cell_type": "code",
   "execution_count": null,
   "id": "c50ad2d2",
   "metadata": {},
   "outputs": [],
   "source": [
    "#result=predictions-new_predictions"
   ]
  },
  {
   "cell_type": "code",
   "execution_count": null,
   "id": "34fd04ad",
   "metadata": {},
   "outputs": [],
   "source": [
    "#summer=sum(result)"
   ]
  },
  {
   "cell_type": "code",
   "execution_count": null,
   "id": "7ad79e8a",
   "metadata": {},
   "outputs": [],
   "source": [
    "#summer"
   ]
  },
  {
   "cell_type": "code",
   "execution_count": null,
   "id": "9d9e0c36",
   "metadata": {},
   "outputs": [],
   "source": []
  }
 ],
 "metadata": {
  "kernelspec": {
   "display_name": "Python 3",
   "language": "python",
   "name": "python3"
  },
  "language_info": {
   "codemirror_mode": {
    "name": "ipython",
    "version": 3
   },
   "file_extension": ".py",
   "mimetype": "text/x-python",
   "name": "python",
   "nbconvert_exporter": "python",
   "pygments_lexer": "ipython3",
   "version": "3.8.8"
  }
 },
 "nbformat": 4,
 "nbformat_minor": 5
}
