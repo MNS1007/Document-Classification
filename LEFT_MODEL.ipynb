{
 "cells": [
  {
   "cell_type": "code",
   "execution_count": 1,
   "id": "fea5e26d",
   "metadata": {},
   "outputs": [],
   "source": [
    "import pandas as pd\n",
    "import numpy as np\n",
    "import os\n",
    "import tensorflow as tf\n",
    "import keras\n",
    "import cv2\n",
    "from tensorflow.keras import datasets,layers,models\n",
    "import matplotlib.pyplot as plt\n",
    "import matplotlib.image as mpimg\n",
    "import pickle"
   ]
  },
  {
   "cell_type": "code",
   "execution_count": 2,
   "id": "334696c2",
   "metadata": {},
   "outputs": [],
   "source": [
    "X_train=np.load(\"LEFT_TRAIN.npy\")\n",
    "y_train=np.load(\"y_final_train.npy\")\n",
    "X_cval=np.load(\"X_final_cval.npy\")\n",
    "Y_cval=np.load(\"y_final_cval.npy\")"
   ]
  },
  {
   "cell_type": "code",
   "execution_count": 3,
   "id": "adc025e6",
   "metadata": {},
   "outputs": [
    {
     "data": {
      "text/plain": [
       "(38400, 128, 128, 3)"
      ]
     },
     "execution_count": 3,
     "metadata": {},
     "output_type": "execute_result"
    }
   ],
   "source": [
    "X_train.shape"
   ]
  },
  {
   "cell_type": "code",
   "execution_count": 4,
   "id": "4d4c6e4d",
   "metadata": {},
   "outputs": [],
   "source": [
    "data_augmentation = keras.Sequential([\n",
    "    layers.experimental.preprocessing.RandomZoom(0.1),\n",
    "    layers.experimental.preprocessing.RandomContrast(0.7),\n",
    "    \n",
    "])"
   ]
  },
  {
   "cell_type": "code",
   "execution_count": 6,
   "id": "5f3eab36",
   "metadata": {},
   "outputs": [],
   "source": [
    "cnn_left= models.Sequential([\n",
    "    data_augmentation,\n",
    "    # cnn\n",
    "    layers.Conv2D(filters = 32,kernel_size = (3,3),activation = 'relu',input_shape = (128,128,3),padding = 'same'),\n",
    "    layers.MaxPooling2D((2,2)),\n",
    "    \n",
    "    layers.Conv2D(filters = 32,kernel_size = (3,3),activation = 'relu',input_shape = (128,128,3),padding = 'same'),\n",
    "    layers.MaxPooling2D((2,2)),\n",
    "    \n",
    "    layers.Conv2D(filters = 32,kernel_size = (3,3),activation = 'relu',input_shape = (128,128,3),padding = 'same'),\n",
    "    layers.MaxPooling2D((2,2)),\n",
    "    \n",
    "    layers.Conv2D(filters = 32,kernel_size = (3,3),activation = 'relu',input_shape = (128,128,3),padding = 'same'),\n",
    "    layers.MaxPooling2D((2,2)),\n",
    "    \n",
    "    #layers.Conv2D(filters = 32,kernel_size = (3,3),activation = 'relu',input_shape = (128,128,3),padding = 'same'),\n",
    "    #layers.MaxPooling2D((2,2)),\n",
    "    \n",
    "    #layers.Conv2D(filters = 32,kernel_size = (3,3),activation = 'relu',input_shape = (128,128,3),padding = 'same'),\n",
    "    #layers.MaxPooling2D((2,2)),\n",
    "    \n",
    "    layers.Dropout(0.2),\n",
    "    \n",
    "    # dense\n",
    "    layers.Flatten(),\n",
    "    layers.Dense(64,activation = \"relu\"),\n",
    "    #layers.Dense(64,activation = \"relu\"),\n",
    "    layers.Dense(16,activation = 'softmax')\n",
    "]\n",
    ")"
   ]
  },
  {
   "cell_type": "code",
   "execution_count": 7,
   "id": "f4244f86",
   "metadata": {},
   "outputs": [],
   "source": [
    "cnn_left.compile(\n",
    "    optimizer='adam',\n",
    "    loss=\"sparse_categorical_crossentropy\",\n",
    "    metrics=\"accuracy\"   \n",
    ")"
   ]
  },
  {
   "cell_type": "code",
   "execution_count": 8,
   "id": "8409e62c",
   "metadata": {},
   "outputs": [
    {
     "name": "stdout",
     "output_type": "stream",
     "text": [
      "Epoch 1/50\n",
      "WARNING:tensorflow:Using a while_loop for converting RngReadAndSkip\n",
      "WARNING:tensorflow:Using a while_loop for converting Bitcast\n",
      "WARNING:tensorflow:Using a while_loop for converting Bitcast\n",
      "WARNING:tensorflow:Using a while_loop for converting StatelessRandomUniformFullIntV2\n",
      "WARNING:tensorflow:Using a while_loop for converting StatelessRandomGetKeyCounter\n",
      "WARNING:tensorflow:Using a while_loop for converting StatelessRandomUniformV2\n",
      "WARNING:tensorflow:Using a while_loop for converting AdjustContrastv2\n",
      "WARNING:tensorflow:Using a while_loop for converting RngReadAndSkip\n",
      "WARNING:tensorflow:Using a while_loop for converting Bitcast\n",
      "WARNING:tensorflow:Using a while_loop for converting Bitcast\n",
      "WARNING:tensorflow:Using a while_loop for converting StatelessRandomUniformFullIntV2\n",
      "WARNING:tensorflow:Using a while_loop for converting StatelessRandomGetKeyCounter\n",
      "WARNING:tensorflow:Using a while_loop for converting StatelessRandomUniformV2\n",
      "WARNING:tensorflow:Using a while_loop for converting AdjustContrastv2\n",
      "WARNING:tensorflow:Using a while_loop for converting RngReadAndSkip\n",
      "WARNING:tensorflow:Using a while_loop for converting Bitcast\n",
      "WARNING:tensorflow:Using a while_loop for converting Bitcast\n",
      "WARNING:tensorflow:Using a while_loop for converting StatelessRandomUniformFullIntV2\n",
      "WARNING:tensorflow:Using a while_loop for converting StatelessRandomGetKeyCounter\n",
      "WARNING:tensorflow:Using a while_loop for converting StatelessRandomUniformV2\n",
      "WARNING:tensorflow:Using a while_loop for converting AdjustContrastv2\n",
      "WARNING:tensorflow:Using a while_loop for converting RngReadAndSkip\n",
      "WARNING:tensorflow:Using a while_loop for converting Bitcast\n",
      "WARNING:tensorflow:Using a while_loop for converting Bitcast\n",
      "WARNING:tensorflow:Using a while_loop for converting StatelessRandomUniformFullIntV2\n",
      "WARNING:tensorflow:Using a while_loop for converting StatelessRandomGetKeyCounter\n",
      "WARNING:tensorflow:Using a while_loop for converting StatelessRandomUniformV2\n",
      "WARNING:tensorflow:Using a while_loop for converting AdjustContrastv2\n",
      "1200/1200 [==============================] - 715s 583ms/step - loss: 2.3069 - accuracy: 0.2613 - val_loss: 1.9591 - val_accuracy: 0.3839\n",
      "Epoch 2/50\n",
      "1200/1200 [==============================] - 672s 560ms/step - loss: 1.9168 - accuracy: 0.4015 - val_loss: 1.8156 - val_accuracy: 0.4332\n",
      "Epoch 3/50\n",
      "1200/1200 [==============================] - 651s 543ms/step - loss: 1.7670 - accuracy: 0.4514 - val_loss: 1.7806 - val_accuracy: 0.4518\n",
      "Epoch 4/50\n",
      "1200/1200 [==============================] - 653s 544ms/step - loss: 1.6616 - accuracy: 0.4829 - val_loss: 1.6347 - val_accuracy: 0.5094\n",
      "Epoch 5/50\n",
      "1200/1200 [==============================] - 659s 549ms/step - loss: 1.5660 - accuracy: 0.5121 - val_loss: 1.5989 - val_accuracy: 0.5161\n",
      "Epoch 6/50\n",
      "1200/1200 [==============================] - 667s 556ms/step - loss: 1.4916 - accuracy: 0.5373 - val_loss: 1.4770 - val_accuracy: 0.5663\n",
      "Epoch 7/50\n",
      "1200/1200 [==============================] - 558s 465ms/step - loss: 1.4388 - accuracy: 0.5529 - val_loss: 1.4561 - val_accuracy: 0.5539\n",
      "Epoch 8/50\n",
      "1200/1200 [==============================] - 519s 433ms/step - loss: 1.3929 - accuracy: 0.5681 - val_loss: 1.4086 - val_accuracy: 0.5773\n",
      "Epoch 9/50\n",
      "1200/1200 [==============================] - 516s 430ms/step - loss: 1.3440 - accuracy: 0.5824 - val_loss: 1.3953 - val_accuracy: 0.5797\n",
      "Epoch 10/50\n",
      "1200/1200 [==============================] - 517s 430ms/step - loss: 1.3181 - accuracy: 0.5913 - val_loss: 1.3847 - val_accuracy: 0.5958\n",
      "Epoch 11/50\n",
      "1200/1200 [==============================] - 525s 438ms/step - loss: 1.2883 - accuracy: 0.5996 - val_loss: 1.3553 - val_accuracy: 0.5946\n",
      "Epoch 12/50\n",
      "1200/1200 [==============================] - 517s 431ms/step - loss: 1.2621 - accuracy: 0.6065 - val_loss: 1.3599 - val_accuracy: 0.6018\n",
      "Epoch 13/50\n",
      "1200/1200 [==============================] - 515s 429ms/step - loss: 1.2398 - accuracy: 0.6130 - val_loss: 1.3128 - val_accuracy: 0.6086\n",
      "Epoch 14/50\n",
      "1200/1200 [==============================] - 645s 538ms/step - loss: 1.2197 - accuracy: 0.6188 - val_loss: 1.3395 - val_accuracy: 0.6078\n",
      "Epoch 15/50\n",
      "1200/1200 [==============================] - 533s 444ms/step - loss: 1.2013 - accuracy: 0.6260 - val_loss: 1.3078 - val_accuracy: 0.6161\n",
      "Epoch 16/50\n",
      "1200/1200 [==============================] - 591s 493ms/step - loss: 1.1802 - accuracy: 0.6312 - val_loss: 1.3117 - val_accuracy: 0.6117\n",
      "Epoch 17/50\n",
      "1200/1200 [==============================] - 551s 459ms/step - loss: 1.1616 - accuracy: 0.6381 - val_loss: 1.3411 - val_accuracy: 0.6018\n",
      "Epoch 18/50\n",
      "1200/1200 [==============================] - 829s 691ms/step - loss: 1.1458 - accuracy: 0.6413 - val_loss: 1.3473 - val_accuracy: 0.6007\n",
      "Epoch 19/50\n",
      "1200/1200 [==============================] - 561s 468ms/step - loss: 1.1330 - accuracy: 0.6444 - val_loss: 1.3194 - val_accuracy: 0.6168\n",
      "Epoch 20/50\n",
      "1200/1200 [==============================] - 552s 460ms/step - loss: 1.1154 - accuracy: 0.6490 - val_loss: 1.3341 - val_accuracy: 0.6134\n",
      "Epoch 21/50\n",
      "1200/1200 [==============================] - 555s 462ms/step - loss: 1.1136 - accuracy: 0.6517 - val_loss: 1.3161 - val_accuracy: 0.6187\n",
      "Epoch 22/50\n",
      "1200/1200 [==============================] - 556s 463ms/step - loss: 1.0956 - accuracy: 0.6540 - val_loss: 1.3314 - val_accuracy: 0.6099\n",
      "Epoch 23/50\n",
      "1200/1200 [==============================] - 646s 538ms/step - loss: 1.0922 - accuracy: 0.6576 - val_loss: 1.3732 - val_accuracy: 0.6101\n",
      "Epoch 24/50\n",
      "1200/1200 [==============================] - 566s 471ms/step - loss: 1.0698 - accuracy: 0.6640 - val_loss: 1.3657 - val_accuracy: 0.6142\n",
      "Epoch 25/50\n",
      "1200/1200 [==============================] - 586s 488ms/step - loss: 1.0579 - accuracy: 0.6658 - val_loss: 1.3266 - val_accuracy: 0.6252\n",
      "Epoch 26/50\n",
      "1200/1200 [==============================] - 589s 490ms/step - loss: 1.0539 - accuracy: 0.6677 - val_loss: 1.2904 - val_accuracy: 0.6229\n",
      "Epoch 27/50\n",
      "1200/1200 [==============================] - 538s 448ms/step - loss: 1.0394 - accuracy: 0.6708 - val_loss: 1.3111 - val_accuracy: 0.6225\n",
      "Epoch 28/50\n",
      "1200/1200 [==============================] - 554s 462ms/step - loss: 1.0340 - accuracy: 0.6744 - val_loss: 1.3690 - val_accuracy: 0.6143\n",
      "Epoch 29/50\n",
      "1200/1200 [==============================] - 522s 435ms/step - loss: 1.0169 - accuracy: 0.6793 - val_loss: 1.3126 - val_accuracy: 0.6190\n",
      "Epoch 30/50\n",
      "1200/1200 [==============================] - 1483s 1s/step - loss: 1.0143 - accuracy: 0.6785 - val_loss: 1.2862 - val_accuracy: 0.6321\n",
      "Epoch 31/50\n",
      "1200/1200 [==============================] - 559s 466ms/step - loss: 1.0072 - accuracy: 0.6834 - val_loss: 1.3378 - val_accuracy: 0.6264\n",
      "Epoch 32/50\n",
      "1200/1200 [==============================] - 545s 454ms/step - loss: 0.9965 - accuracy: 0.6891 - val_loss: 1.2815 - val_accuracy: 0.6313\n",
      "Epoch 33/50\n",
      "1200/1200 [==============================] - 545s 454ms/step - loss: 0.9887 - accuracy: 0.6880 - val_loss: 1.3766 - val_accuracy: 0.6075\n",
      "Epoch 34/50\n",
      "1200/1200 [==============================] - 547s 456ms/step - loss: 0.9867 - accuracy: 0.6867 - val_loss: 1.3578 - val_accuracy: 0.6172\n",
      "Epoch 35/50\n",
      "1200/1200 [==============================] - 539s 449ms/step - loss: 0.9903 - accuracy: 0.6873 - val_loss: 1.3083 - val_accuracy: 0.6275\n",
      "Epoch 36/50\n",
      "1200/1200 [==============================] - 542s 451ms/step - loss: 0.9714 - accuracy: 0.6897 - val_loss: 1.3469 - val_accuracy: 0.6259\n",
      "Epoch 37/50\n",
      "1200/1200 [==============================] - 540s 450ms/step - loss: 0.9626 - accuracy: 0.6922 - val_loss: 1.3304 - val_accuracy: 0.6258\n",
      "Epoch 38/50\n",
      "1200/1200 [==============================] - 540s 450ms/step - loss: 0.9498 - accuracy: 0.6980 - val_loss: 1.3363 - val_accuracy: 0.6176\n",
      "Epoch 39/50\n",
      "1200/1200 [==============================] - 541s 451ms/step - loss: 0.9490 - accuracy: 0.6965 - val_loss: 1.3158 - val_accuracy: 0.6321\n",
      "Epoch 40/50\n",
      "1200/1200 [==============================] - 557s 464ms/step - loss: 0.9477 - accuracy: 0.6991 - val_loss: 1.3349 - val_accuracy: 0.6269\n",
      "Epoch 41/50\n",
      "1200/1200 [==============================] - 528s 440ms/step - loss: 0.9474 - accuracy: 0.6965 - val_loss: 1.2892 - val_accuracy: 0.6365\n",
      "Epoch 42/50\n"
     ]
    },
    {
     "name": "stdout",
     "output_type": "stream",
     "text": [
      "1200/1200 [==============================] - 500s 416ms/step - loss: 0.9345 - accuracy: 0.7025 - val_loss: 1.3630 - val_accuracy: 0.6270\n",
      "Epoch 43/50\n",
      "1200/1200 [==============================] - 496s 414ms/step - loss: 0.9269 - accuracy: 0.7032 - val_loss: 1.3344 - val_accuracy: 0.6252\n",
      "Epoch 44/50\n",
      "1200/1200 [==============================] - 482s 402ms/step - loss: 0.9285 - accuracy: 0.7030 - val_loss: 1.3227 - val_accuracy: 0.6347\n",
      "Epoch 45/50\n",
      "1200/1200 [==============================] - 481s 401ms/step - loss: 0.9186 - accuracy: 0.7046 - val_loss: 1.4063 - val_accuracy: 0.6198\n",
      "Epoch 46/50\n",
      "1200/1200 [==============================] - 480s 400ms/step - loss: 0.9192 - accuracy: 0.7055 - val_loss: 1.3286 - val_accuracy: 0.6237\n",
      "Epoch 47/50\n",
      "1200/1200 [==============================] - 479s 399ms/step - loss: 0.9065 - accuracy: 0.7100 - val_loss: 1.3221 - val_accuracy: 0.6323\n",
      "Epoch 48/50\n",
      "1200/1200 [==============================] - 477s 397ms/step - loss: 0.9060 - accuracy: 0.7118 - val_loss: 1.3310 - val_accuracy: 0.6263\n",
      "Epoch 49/50\n",
      "1200/1200 [==============================] - 470s 391ms/step - loss: 0.8926 - accuracy: 0.7143 - val_loss: 1.3347 - val_accuracy: 0.6273\n",
      "Epoch 50/50\n",
      "1200/1200 [==============================] - 489s 408ms/step - loss: 0.9030 - accuracy: 0.7084 - val_loss: 1.3375 - val_accuracy: 0.6343\n"
     ]
    },
    {
     "data": {
      "text/plain": [
       "<keras.callbacks.History at 0x199f32261c0>"
      ]
     },
     "execution_count": 8,
     "metadata": {},
     "output_type": "execute_result"
    }
   ],
   "source": [
    "cnn_left.fit(X_train,y_train,epochs=50, validation_data=(X_cval,Y_cval))"
   ]
  },
  {
   "cell_type": "code",
   "execution_count": 9,
   "id": "233d3ddc",
   "metadata": {},
   "outputs": [],
   "source": [
    "cnn_left.save(\"LEFT_MODEL.h5\")"
   ]
  },
  {
   "cell_type": "code",
   "execution_count": 10,
   "id": "103198cf",
   "metadata": {},
   "outputs": [],
   "source": [
    "new_path=\"C:/Users/nithi/.jupyter/new_validation\""
   ]
  },
  {
   "cell_type": "code",
   "execution_count": 11,
   "id": "7bce9289",
   "metadata": {},
   "outputs": [],
   "source": [
    "data = range(17801,18701)\n",
    "df = pd.DataFrame(data,columns = ['id'])"
   ]
  },
  {
   "cell_type": "code",
   "execution_count": 12,
   "id": "7da9551c",
   "metadata": {},
   "outputs": [],
   "source": [
    "X_test = []\n",
    "for i in range(len(df)):\n",
    "    path = os.path.join(new_path,str(df.iloc[i,0]))\n",
    "    path = path.replace(\"\\\\\",\"/\")\n",
    "    path = path+\".tif\"\n",
    "    path=path.replace(\"\\new\",\"/new\")\n",
    "    #path = os.path.join(validation_dir,str(df.iloc[i,0]))\n",
    "    #path = path.replace(\"\\\\\",\"/\")\n",
    "    #path = path + \".tif\"\n",
    "    img = cv2.imread(path)\n",
    "    img = img / 255\n",
    "    resized_img = cv2.resize(img,(128,128))\n",
    "    X_test.append(resized_img)"
   ]
  },
  {
   "cell_type": "code",
   "execution_count": 14,
   "id": "84ad59c5",
   "metadata": {},
   "outputs": [
    {
     "name": "stdout",
     "output_type": "stream",
     "text": [
      "29/29 [==============================] - 3s 80ms/step\n"
     ]
    }
   ],
   "source": [
    "X_test = np.array(X_test)\n",
    "predictions=cnn_left.predict(X_test)"
   ]
  },
  {
   "cell_type": "code",
   "execution_count": 15,
   "id": "30667f09",
   "metadata": {},
   "outputs": [
    {
     "data": {
      "text/plain": [
       "array([[9.67548622e-05, 5.68553898e-03, 1.67481161e-07, 9.94511996e-04,\n",
       "        9.66437519e-01, 8.79444589e-04, 5.03979914e-04, 1.92147261e-03,\n",
       "        1.44750520e-03, 6.32647518e-03, 1.10066423e-04, 1.62625208e-03,\n",
       "        4.11209930e-03, 9.45699867e-03, 9.33053161e-05, 3.07914772e-04],\n",
       "       [1.33375920e-06, 2.72581883e-06, 7.15943926e-08, 1.93661734e-07,\n",
       "        1.08752408e-06, 2.10741162e-03, 9.97563958e-01, 8.88798809e-07,\n",
       "        1.66813940e-09, 2.30325066e-04, 1.40451687e-06, 4.64879885e-10,\n",
       "        7.50488616e-05, 8.11194241e-06, 7.08966809e-06, 3.09993993e-07],\n",
       "       [7.18921547e-06, 6.10897715e-08, 8.03991273e-14, 7.95546327e-07,\n",
       "        9.99672413e-01, 3.72454934e-07, 8.52296580e-06, 2.87523648e-07,\n",
       "        1.32447053e-06, 1.72548418e-04, 3.17253139e-08, 5.70937164e-09,\n",
       "        1.03579376e-04, 2.82556557e-05, 1.18156662e-09, 4.69286670e-06],\n",
       "       [7.30321393e-04, 4.65895660e-04, 8.71276774e-04, 1.35151288e-02,\n",
       "        4.43230820e-04, 9.52310627e-04, 4.50556050e-04, 2.70962529e-03,\n",
       "        9.72468197e-01, 1.29197986e-04, 2.21524024e-05, 1.49552463e-04,\n",
       "        8.16376938e-04, 4.09862492e-03, 3.18901672e-04, 1.85871404e-03],\n",
       "       [1.57622504e-04, 5.05996868e-04, 6.01170404e-06, 9.93352771e-01,\n",
       "        6.16100035e-04, 2.06650191e-04, 2.21924874e-05, 4.22794947e-05,\n",
       "        7.60658659e-05, 1.25542327e-04, 4.29935353e-05, 6.02919026e-05,\n",
       "        5.32213482e-04, 4.06421768e-03, 1.55384187e-04, 3.36585545e-05],\n",
       "       [5.33304010e-05, 1.41959521e-04, 8.21546128e-05, 6.74538824e-05,\n",
       "        3.05117555e-05, 4.81526258e-05, 6.20679930e-04, 1.51591934e-07,\n",
       "        9.98398602e-01, 2.97315921e-07, 2.64249335e-04, 1.13590788e-04,\n",
       "        4.25967482e-05, 1.02527207e-04, 6.01893134e-06, 2.77480140e-05],\n",
       "       [2.21483514e-01, 5.44259930e-03, 8.51926870e-07, 4.10378052e-05,\n",
       "        3.94739350e-03, 5.64255640e-02, 2.57041422e-04, 3.50610390e-02,\n",
       "        4.55443615e-06, 1.67314683e-05, 6.94149211e-02, 9.63953659e-02,\n",
       "        4.54302579e-01, 1.15615763e-02, 3.31085350e-04, 4.53140736e-02],\n",
       "       [2.17371108e-03, 1.45416886e-01, 1.44249259e-03, 4.58485514e-01,\n",
       "        7.99405128e-02, 7.65961409e-03, 5.50122466e-04, 2.35825256e-02,\n",
       "        5.29261585e-03, 1.75136118e-03, 4.06994410e-02, 1.75325587e-01,\n",
       "        3.49178619e-04, 5.04709221e-02, 6.45290921e-03, 4.06503503e-04],\n",
       "       [7.92522274e-04, 6.59281432e-05, 9.95418906e-01, 1.63756296e-04,\n",
       "        8.97161044e-06, 4.36600385e-04, 3.12930715e-05, 2.45855081e-05,\n",
       "        8.48990658e-06, 6.66357926e-04, 5.28955425e-05, 6.95936978e-05,\n",
       "        3.53837764e-04, 6.57138124e-04, 8.53996153e-06, 1.24055729e-03],\n",
       "       [3.66994118e-06, 7.51094485e-04, 5.28291366e-07, 3.71470487e-05,\n",
       "        8.67392898e-01, 1.85145205e-03, 1.53629298e-05, 8.15523379e-07,\n",
       "        3.37324513e-04, 4.86806184e-02, 3.03154302e-08, 7.97218236e-04,\n",
       "        7.92097226e-02, 9.20367311e-04, 2.39372397e-08, 1.83117106e-06]],\n",
       "      dtype=float32)"
      ]
     },
     "execution_count": 15,
     "metadata": {},
     "output_type": "execute_result"
    }
   ],
   "source": [
    "predictions[:10]"
   ]
  },
  {
   "cell_type": "code",
   "execution_count": 16,
   "id": "80f9d9b4",
   "metadata": {},
   "outputs": [
    {
     "data": {
      "text/plain": [
       "[4, 6, 4, 8, 3, 8, 12, 3, 2, 4]"
      ]
     },
     "execution_count": 16,
     "metadata": {},
     "output_type": "execute_result"
    }
   ],
   "source": [
    "y_classes_1 = [np.argmax(element) for element in predictions]\n",
    "y_classes_1[:10]"
   ]
  },
  {
   "cell_type": "code",
   "execution_count": 17,
   "id": "74da5d43",
   "metadata": {},
   "outputs": [],
   "source": [
    "df3 = pd.DataFrame(y_classes_1,columns = ['label'])\n",
    "result_1 = pd.concat([df, df3], axis=1)\n",
    "result_1.set_index('id',inplace = True)\n",
    "result_1.to_csv(\"C:/Users/nithi/.jupyter/left_results.csv\")"
   ]
  },
  {
   "cell_type": "code",
   "execution_count": null,
   "id": "aaa237ec",
   "metadata": {},
   "outputs": [],
   "source": []
  }
 ],
 "metadata": {
  "kernelspec": {
   "display_name": "Python 3",
   "language": "python",
   "name": "python3"
  },
  "language_info": {
   "codemirror_mode": {
    "name": "ipython",
    "version": 3
   },
   "file_extension": ".py",
   "mimetype": "text/x-python",
   "name": "python",
   "nbconvert_exporter": "python",
   "pygments_lexer": "ipython3",
   "version": "3.8.8"
  }
 },
 "nbformat": 4,
 "nbformat_minor": 5
}
