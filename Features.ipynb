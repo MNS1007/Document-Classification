{
 "cells": [
  {
   "cell_type": "code",
   "execution_count": 1,
   "id": "4e3e85e3",
   "metadata": {},
   "outputs": [],
   "source": [
    "import numpy as np"
   ]
  },
  {
   "cell_type": "code",
   "execution_count": null,
   "id": "0b1bb12f",
   "metadata": {},
   "outputs": [],
   "source": [
    "X_final_new_train=np.load(\"temp.npy\")"
   ]
  },
  {
   "cell_type": "code",
   "execution_count": null,
   "id": "12a7d4ff",
   "metadata": {},
   "outputs": [],
   "source": [
    "header_train=np.zeros((X_final_new_train.shape[0],128,128,3),dtype=\"float16\")\n",
    "bottom_train=np.zeros((X_final_new_train.shape[0],128,128,3),dtype=\"float16\")\n",
    "left_train=np.zeros((X_final_new_train.shape[0],128,128,3),dtype=\"float16\")\n",
    "right_train=np.zeros((X_final_new_train.shape[0],128,128,3),dtype=\"float16\")"
   ]
  },
  {
   "cell_type": "code",
   "execution_count": null,
   "id": "f4047979",
   "metadata": {},
   "outputs": [],
   "source": [
    "right_train.shape"
   ]
  },
  {
   "cell_type": "code",
   "execution_count": null,
   "id": "a02da70f",
   "metadata": {},
   "outputs": [],
   "source": [
    "for i in range(X_final_new_train.shape[0]):\n",
    "     header_train[i]=X_final_new_train[i][:128,:,:]"
   ]
  },
  {
   "cell_type": "code",
   "execution_count": null,
   "id": "debe5f2d",
   "metadata": {},
   "outputs": [],
   "source": [
    "header_train.shape"
   ]
  },
  {
   "cell_type": "code",
   "execution_count": null,
   "id": "3cc0b2e2",
   "metadata": {},
   "outputs": [],
   "source": [
    "for i in range(X_final_new_train.shape[0]):\n",
    "     bottom_train[i]=X_final_new_train[i][-128:,:,:]\n",
    "    "
   ]
  },
  {
   "cell_type": "code",
   "execution_count": null,
   "id": "3fe01ecc",
   "metadata": {},
   "outputs": [],
   "source": [
    "bottom_train.shape"
   ]
  },
  {
   "cell_type": "code",
   "execution_count": null,
   "id": "07dc6695",
   "metadata": {},
   "outputs": [],
   "source": [
    "for i in range(X_final_new_train.shape[0]):\n",
    "     left_train[i]=X_final_new_train[i][:,:128,:]"
   ]
  },
  {
   "cell_type": "code",
   "execution_count": null,
   "id": "1b82efe4",
   "metadata": {},
   "outputs": [],
   "source": [
    "header_train.shape"
   ]
  },
  {
   "cell_type": "code",
   "execution_count": null,
   "id": "a1beb1aa",
   "metadata": {},
   "outputs": [],
   "source": [
    "for i in range(X_final_new_train.shape[0]):\n",
    "    right_train[i]=X_final_new_train[i][:,128:,:]"
   ]
  },
  {
   "cell_type": "code",
   "execution_count": null,
   "id": "68bd2591",
   "metadata": {},
   "outputs": [],
   "source": [
    "right_train.shape"
   ]
  },
  {
   "cell_type": "code",
   "execution_count": null,
   "id": "a4b07c52",
   "metadata": {},
   "outputs": [],
   "source": [
    "np.save(\"HEADER_TRAIN.npy\",header_train)\n",
    "np.save(\"BOTTOM_TRAIN.npy\",bottom_train)\n",
    "np.save(\"LEFT_TRAIN.npy\",left_train)\n",
    "np.save(\"RIGHT_TRAIN.npy\",right_train)"
   ]
  },
  {
   "cell_type": "code",
   "execution_count": null,
   "id": "4360b98c",
   "metadata": {},
   "outputs": [],
   "source": []
  }
 ],
 "metadata": {
  "kernelspec": {
   "display_name": "Python 3",
   "language": "python",
   "name": "python3"
  },
  "language_info": {
   "codemirror_mode": {
    "name": "ipython",
    "version": 3
   },
   "file_extension": ".py",
   "mimetype": "text/x-python",
   "name": "python",
   "nbconvert_exporter": "python",
   "pygments_lexer": "ipython3",
   "version": "3.8.8"
  }
 },
 "nbformat": 4,
 "nbformat_minor": 5
}
