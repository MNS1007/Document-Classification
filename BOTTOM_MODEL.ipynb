{
 "cells": [
  {
   "cell_type": "code",
   "execution_count": 1,
   "id": "65be6e38",
   "metadata": {},
   "outputs": [],
   "source": [
    "import pandas as pd\n",
    "import numpy as np\n",
    "import os\n",
    "import tensorflow as tf\n",
    "import keras\n",
    "import cv2\n",
    "from tensorflow.keras import datasets,layers,models\n",
    "import matplotlib.pyplot as plt\n",
    "import matplotlib.image as mpimg\n",
    "import pickle"
   ]
  },
  {
   "cell_type": "code",
   "execution_count": 2,
   "id": "4e4f34ea",
   "metadata": {},
   "outputs": [],
   "source": [
    "X_train=np.load(\"BOTTOM_TRAIN.npy\")\n",
    "y_train=np.load(\"y_final_train.npy\")\n",
    "X_cval=np.load(\"X_final_cval.npy\")\n",
    "Y_cval=np.load(\"y_final_cval.npy\")"
   ]
  },
  {
   "cell_type": "code",
   "execution_count": 3,
   "id": "d956cf97",
   "metadata": {},
   "outputs": [
    {
     "data": {
      "text/plain": [
       "(38400, 128, 128, 3)"
      ]
     },
     "execution_count": 3,
     "metadata": {},
     "output_type": "execute_result"
    }
   ],
   "source": [
    "X_train.shape"
   ]
  },
  {
   "cell_type": "code",
   "execution_count": 4,
   "id": "8e2f2224",
   "metadata": {},
   "outputs": [],
   "source": [
    "data_augmentation = keras.Sequential([\n",
    "    layers.experimental.preprocessing.RandomZoom(0.1),\n",
    "    layers.experimental.preprocessing.RandomContrast(0.7),\n",
    "    \n",
    "])"
   ]
  },
  {
   "cell_type": "code",
   "execution_count": 5,
   "id": "4b3ae4d9",
   "metadata": {},
   "outputs": [],
   "source": [
    "cnn_bottom= models.Sequential([\n",
    "    data_augmentation,\n",
    "    # cnn\n",
    "    layers.Conv2D(filters = 32,kernel_size = (3,3),activation = 'relu',input_shape = (128,128,3),padding = 'same'),\n",
    "    layers.MaxPooling2D((2,2)),\n",
    "    \n",
    "    layers.Conv2D(filters = 32,kernel_size = (3,3),activation = 'relu',input_shape = (128,128,3),padding = 'same'),\n",
    "    layers.MaxPooling2D((2,2)),\n",
    "    \n",
    "    layers.Conv2D(filters = 32,kernel_size = (3,3),activation = 'relu',input_shape = (128,128,3),padding = 'same'),\n",
    "    layers.MaxPooling2D((2,2)),\n",
    "    \n",
    "    layers.Conv2D(filters = 32,kernel_size = (3,3),activation = 'relu',input_shape = (128,128,3),padding = 'same'),\n",
    "    layers.MaxPooling2D((2,2)),\n",
    "    \n",
    "    #layers.Conv2D(filters = 32,kernel_size = (3,3),activation = 'relu',input_shape = (128,128,3),padding = 'same'),\n",
    "    #layers.MaxPooling2D((2,2)),\n",
    "    \n",
    "    #layers.Conv2D(filters = 32,kernel_size = (3,3),activation = 'relu',input_shape = (128,128,3),padding = 'same'),\n",
    "    #layers.MaxPooling2D((2,2)),\n",
    "    \n",
    "    layers.Dropout(0.2),\n",
    "    \n",
    "    # dense\n",
    "    layers.Flatten(),\n",
    "    layers.Dense(64,activation = \"relu\"),\n",
    "    #layers.Dense(64,activation = \"relu\"),\n",
    "    layers.Dense(16,activation = 'softmax')\n",
    "]\n",
    ")"
   ]
  },
  {
   "cell_type": "code",
   "execution_count": 6,
   "id": "6e45f9b0",
   "metadata": {},
   "outputs": [],
   "source": [
    "cnn_bottom.compile(\n",
    "    optimizer='adam',\n",
    "    loss=\"sparse_categorical_crossentropy\",\n",
    "    metrics=\"accuracy\"   \n",
    ")"
   ]
  },
  {
   "cell_type": "code",
   "execution_count": 7,
   "id": "e10547e7",
   "metadata": {},
   "outputs": [
    {
     "name": "stdout",
     "output_type": "stream",
     "text": [
      "Epoch 1/50\n",
      "WARNING:tensorflow:Using a while_loop for converting RngReadAndSkip\n",
      "WARNING:tensorflow:Using a while_loop for converting Bitcast\n",
      "WARNING:tensorflow:Using a while_loop for converting Bitcast\n",
      "WARNING:tensorflow:Using a while_loop for converting StatelessRandomUniformFullIntV2\n",
      "WARNING:tensorflow:Using a while_loop for converting StatelessRandomGetKeyCounter\n",
      "WARNING:tensorflow:Using a while_loop for converting StatelessRandomUniformV2\n",
      "WARNING:tensorflow:Using a while_loop for converting AdjustContrastv2\n",
      "WARNING:tensorflow:Using a while_loop for converting RngReadAndSkip\n",
      "WARNING:tensorflow:Using a while_loop for converting Bitcast\n",
      "WARNING:tensorflow:Using a while_loop for converting Bitcast\n",
      "WARNING:tensorflow:Using a while_loop for converting StatelessRandomUniformFullIntV2\n",
      "WARNING:tensorflow:Using a while_loop for converting StatelessRandomGetKeyCounter\n",
      "WARNING:tensorflow:Using a while_loop for converting StatelessRandomUniformV2\n",
      "WARNING:tensorflow:Using a while_loop for converting AdjustContrastv2\n",
      "WARNING:tensorflow:Using a while_loop for converting RngReadAndSkip\n",
      "WARNING:tensorflow:Using a while_loop for converting Bitcast\n",
      "WARNING:tensorflow:Using a while_loop for converting Bitcast\n",
      "WARNING:tensorflow:Using a while_loop for converting StatelessRandomUniformFullIntV2\n",
      "WARNING:tensorflow:Using a while_loop for converting StatelessRandomGetKeyCounter\n",
      "WARNING:tensorflow:Using a while_loop for converting StatelessRandomUniformV2\n",
      "WARNING:tensorflow:Using a while_loop for converting AdjustContrastv2\n",
      "WARNING:tensorflow:Using a while_loop for converting RngReadAndSkip\n",
      "WARNING:tensorflow:Using a while_loop for converting Bitcast\n",
      "WARNING:tensorflow:Using a while_loop for converting Bitcast\n",
      "WARNING:tensorflow:Using a while_loop for converting StatelessRandomUniformFullIntV2\n",
      "WARNING:tensorflow:Using a while_loop for converting StatelessRandomGetKeyCounter\n",
      "WARNING:tensorflow:Using a while_loop for converting StatelessRandomUniformV2\n",
      "WARNING:tensorflow:Using a while_loop for converting AdjustContrastv2\n",
      "1200/1200 [==============================] - 683s 565ms/step - loss: 2.3653 - accuracy: 0.2379 - val_loss: 1.9760 - val_accuracy: 0.3808\n",
      "Epoch 2/50\n",
      "1200/1200 [==============================] - 656s 547ms/step - loss: 1.9429 - accuracy: 0.3887 - val_loss: 1.7921 - val_accuracy: 0.4445\n",
      "Epoch 3/50\n",
      "1200/1200 [==============================] - 641s 534ms/step - loss: 1.7893 - accuracy: 0.4418 - val_loss: 1.6949 - val_accuracy: 0.4719\n",
      "Epoch 4/50\n",
      "1200/1200 [==============================] - 652s 543ms/step - loss: 1.6759 - accuracy: 0.4750 - val_loss: 1.5636 - val_accuracy: 0.5210\n",
      "Epoch 5/50\n",
      "1200/1200 [==============================] - 647s 539ms/step - loss: 1.5840 - accuracy: 0.5063 - val_loss: 1.5633 - val_accuracy: 0.5178\n",
      "Epoch 6/50\n",
      "1200/1200 [==============================] - 649s 540ms/step - loss: 1.5087 - accuracy: 0.5314 - val_loss: 1.4961 - val_accuracy: 0.5454\n",
      "Epoch 7/50\n",
      "1200/1200 [==============================] - 644s 536ms/step - loss: 1.4542 - accuracy: 0.5500 - val_loss: 1.4672 - val_accuracy: 0.5505\n",
      "Epoch 8/50\n",
      "1200/1200 [==============================] - 644s 537ms/step - loss: 1.4020 - accuracy: 0.5661 - val_loss: 1.5296 - val_accuracy: 0.5361\n",
      "Epoch 9/50\n",
      "1200/1200 [==============================] - 644s 536ms/step - loss: 1.3641 - accuracy: 0.5726 - val_loss: 1.3662 - val_accuracy: 0.5957\n",
      "Epoch 10/50\n",
      "1200/1200 [==============================] - 645s 538ms/step - loss: 1.3289 - accuracy: 0.5858 - val_loss: 1.3881 - val_accuracy: 0.5894\n",
      "Epoch 11/50\n",
      "1200/1200 [==============================] - 648s 540ms/step - loss: 1.2955 - accuracy: 0.5935 - val_loss: 1.4690 - val_accuracy: 0.5702\n",
      "Epoch 12/50\n",
      "1200/1200 [==============================] - 557s 464ms/step - loss: 1.2701 - accuracy: 0.6029 - val_loss: 1.3729 - val_accuracy: 0.5978\n",
      "Epoch 13/50\n",
      "1200/1200 [==============================] - 574s 478ms/step - loss: 1.2346 - accuracy: 0.6134 - val_loss: 1.3469 - val_accuracy: 0.6009\n",
      "Epoch 14/50\n",
      "1200/1200 [==============================] - 595s 496ms/step - loss: 1.2209 - accuracy: 0.6196 - val_loss: 1.3670 - val_accuracy: 0.5958\n",
      "Epoch 15/50\n",
      "1200/1200 [==============================] - 585s 487ms/step - loss: 1.1977 - accuracy: 0.6236 - val_loss: 1.3773 - val_accuracy: 0.5991\n",
      "Epoch 16/50\n",
      "1200/1200 [==============================] - 648s 540ms/step - loss: 1.1876 - accuracy: 0.6308 - val_loss: 1.3847 - val_accuracy: 0.6028\n",
      "Epoch 17/50\n",
      "1200/1200 [==============================] - 664s 554ms/step - loss: 1.1652 - accuracy: 0.6331 - val_loss: 1.3439 - val_accuracy: 0.6114\n",
      "Epoch 18/50\n",
      "1200/1200 [==============================] - 678s 565ms/step - loss: 1.1471 - accuracy: 0.6391 - val_loss: 1.3497 - val_accuracy: 0.6072\n",
      "Epoch 19/50\n",
      "1200/1200 [==============================] - 676s 563ms/step - loss: 1.1311 - accuracy: 0.6461 - val_loss: 1.3526 - val_accuracy: 0.6120\n",
      "Epoch 20/50\n",
      "1200/1200 [==============================] - 590s 492ms/step - loss: 1.1143 - accuracy: 0.6499 - val_loss: 1.3371 - val_accuracy: 0.6047\n",
      "Epoch 21/50\n",
      "1200/1200 [==============================] - 544s 453ms/step - loss: 1.0958 - accuracy: 0.6565 - val_loss: 1.3212 - val_accuracy: 0.6165\n",
      "Epoch 22/50\n",
      "1200/1200 [==============================] - 542s 452ms/step - loss: 1.0859 - accuracy: 0.6591 - val_loss: 1.3002 - val_accuracy: 0.6255\n",
      "Epoch 23/50\n",
      "1200/1200 [==============================] - 539s 449ms/step - loss: 1.0801 - accuracy: 0.6612 - val_loss: 1.4007 - val_accuracy: 0.6084\n",
      "Epoch 24/50\n",
      "1200/1200 [==============================] - 1303s 1s/step - loss: 1.0648 - accuracy: 0.6665 - val_loss: 1.2909 - val_accuracy: 0.6261\n",
      "Epoch 25/50\n",
      "1200/1200 [==============================] - 500s 417ms/step - loss: 1.0547 - accuracy: 0.6666 - val_loss: 1.2803 - val_accuracy: 0.6285\n",
      "Epoch 26/50\n",
      "1200/1200 [==============================] - 498s 415ms/step - loss: 1.0448 - accuracy: 0.6691 - val_loss: 1.2664 - val_accuracy: 0.6361\n",
      "Epoch 27/50\n",
      "1200/1200 [==============================] - 527s 439ms/step - loss: 1.0357 - accuracy: 0.6709 - val_loss: 1.3395 - val_accuracy: 0.6155\n",
      "Epoch 28/50\n",
      "1200/1200 [==============================] - 492s 410ms/step - loss: 1.0232 - accuracy: 0.6751 - val_loss: 1.3454 - val_accuracy: 0.6181\n",
      "Epoch 29/50\n",
      "1200/1200 [==============================] - 480s 400ms/step - loss: 1.0069 - accuracy: 0.6810 - val_loss: 1.3235 - val_accuracy: 0.6154\n",
      "Epoch 30/50\n",
      "1200/1200 [==============================] - 480s 400ms/step - loss: 0.9970 - accuracy: 0.6821 - val_loss: 1.2996 - val_accuracy: 0.6328\n",
      "Epoch 31/50\n",
      "1200/1200 [==============================] - 475s 396ms/step - loss: 0.9817 - accuracy: 0.6896 - val_loss: 1.3094 - val_accuracy: 0.6306\n",
      "Epoch 32/50\n",
      "1200/1200 [==============================] - 476s 396ms/step - loss: 0.9803 - accuracy: 0.6905 - val_loss: 1.2736 - val_accuracy: 0.6333\n",
      "Epoch 33/50\n",
      "1200/1200 [==============================] - 476s 396ms/step - loss: 0.9788 - accuracy: 0.6883 - val_loss: 1.3437 - val_accuracy: 0.6280\n",
      "Epoch 34/50\n",
      "1200/1200 [==============================] - 478s 398ms/step - loss: 0.9717 - accuracy: 0.6927 - val_loss: 1.2865 - val_accuracy: 0.6298\n",
      "Epoch 35/50\n",
      "1200/1200 [==============================] - 475s 396ms/step - loss: 0.9705 - accuracy: 0.6908 - val_loss: 1.2769 - val_accuracy: 0.6393\n",
      "Epoch 36/50\n",
      "1200/1200 [==============================] - 475s 396ms/step - loss: 0.9524 - accuracy: 0.6991 - val_loss: 1.3155 - val_accuracy: 0.6296\n",
      "Epoch 37/50\n",
      "1200/1200 [==============================] - 493s 411ms/step - loss: 0.9461 - accuracy: 0.6979 - val_loss: 1.3323 - val_accuracy: 0.6288\n",
      "Epoch 38/50\n",
      "1200/1200 [==============================] - 478s 398ms/step - loss: 0.9394 - accuracy: 0.7008 - val_loss: 1.2872 - val_accuracy: 0.6425\n",
      "Epoch 39/50\n",
      "1200/1200 [==============================] - 473s 394ms/step - loss: 0.9400 - accuracy: 0.7013 - val_loss: 1.3346 - val_accuracy: 0.6263\n",
      "Epoch 40/50\n",
      "1200/1200 [==============================] - 473s 394ms/step - loss: 0.9366 - accuracy: 0.7019 - val_loss: 1.3486 - val_accuracy: 0.6135\n",
      "Epoch 41/50\n",
      "1200/1200 [==============================] - 473s 394ms/step - loss: 0.9287 - accuracy: 0.7043 - val_loss: 1.3423 - val_accuracy: 0.6327\n",
      "Epoch 42/50\n",
      "1200/1200 [==============================] - 470s 391ms/step - loss: 0.9236 - accuracy: 0.7040 - val_loss: 1.2880 - val_accuracy: 0.6320\n",
      "Epoch 43/50\n",
      "1200/1200 [==============================] - 466s 388ms/step - loss: 0.9217 - accuracy: 0.7075 - val_loss: 1.3733 - val_accuracy: 0.6192\n",
      "Epoch 44/50\n",
      "1200/1200 [==============================] - 483s 403ms/step - loss: 0.9039 - accuracy: 0.7116 - val_loss: 1.3684 - val_accuracy: 0.6290\n",
      "Epoch 45/50\n",
      "1200/1200 [==============================] - 621s 517ms/step - loss: 0.9044 - accuracy: 0.7103 - val_loss: 1.2965 - val_accuracy: 0.6333\n",
      "Epoch 46/50\n",
      "1200/1200 [==============================] - 780s 650ms/step - loss: 0.9017 - accuracy: 0.7082 - val_loss: 1.3923 - val_accuracy: 0.6333\n",
      "Epoch 47/50\n",
      "1200/1200 [==============================] - 758s 632ms/step - loss: 0.8940 - accuracy: 0.7136 - val_loss: 1.3719 - val_accuracy: 0.6131\n",
      "Epoch 48/50\n",
      "1200/1200 [==============================] - 715s 595ms/step - loss: 0.8930 - accuracy: 0.7124 - val_loss: 1.3071 - val_accuracy: 0.6380\n",
      "Epoch 49/50\n",
      "1200/1200 [==============================] - 718s 598ms/step - loss: 0.8903 - accuracy: 0.7165 - val_loss: 1.3809 - val_accuracy: 0.6269\n",
      "Epoch 50/50\n",
      "1200/1200 [==============================] - 702s 585ms/step - loss: 0.8898 - accuracy: 0.7125 - val_loss: 1.3782 - val_accuracy: 0.6286\n"
     ]
    },
    {
     "data": {
      "text/plain": [
       "<keras.callbacks.History at 0x25bc5bcdbe0>"
      ]
     },
     "execution_count": 7,
     "metadata": {},
     "output_type": "execute_result"
    }
   ],
   "source": [
    "cnn_bottom.fit(X_train,y_train,epochs=50, validation_data=(X_cval,Y_cval))"
   ]
  },
  {
   "cell_type": "code",
   "execution_count": 8,
   "id": "d6cb79d4",
   "metadata": {},
   "outputs": [],
   "source": [
    "cnn_bottom.save(\"BOTTOM_MODEL.h5\")"
   ]
  },
  {
   "cell_type": "code",
   "execution_count": 13,
   "id": "224016d0",
   "metadata": {},
   "outputs": [],
   "source": [
    "new_path=\"C:/Users/nithi/.jupyter/new_validation\""
   ]
  },
  {
   "cell_type": "code",
   "execution_count": 14,
   "id": "2fdb05c0",
   "metadata": {},
   "outputs": [],
   "source": [
    "data = range(17801,18701)\n",
    "df = pd.DataFrame(data,columns = ['id'])"
   ]
  },
  {
   "cell_type": "code",
   "execution_count": 15,
   "id": "db3b71c1",
   "metadata": {},
   "outputs": [],
   "source": [
    "X_test = []\n",
    "for i in range(len(df)):\n",
    "    path = os.path.join(new_path,str(df.iloc[i,0]))\n",
    "    path = path.replace(\"\\\\\",\"/\")\n",
    "    path = path+\".tif\"\n",
    "    path=path.replace(\"\\new\",\"/new\")\n",
    "    #path = os.path.join(validation_dir,str(df.iloc[i,0]))\n",
    "    #path = path.replace(\"\\\\\",\"/\")\n",
    "    #path = path + \".tif\"\n",
    "    img = cv2.imread(path)\n",
    "    img = img / 255\n",
    "    resized_img = cv2.resize(img,(128,128))\n",
    "    X_test.append(resized_img)"
   ]
  },
  {
   "cell_type": "code",
   "execution_count": 17,
   "id": "376a89a3",
   "metadata": {},
   "outputs": [
    {
     "name": "stdout",
     "output_type": "stream",
     "text": [
      "29/29 [==============================] - 4s 124ms/step\n"
     ]
    }
   ],
   "source": [
    "X_test = np.array(X_test)\n",
    "predictions=cnn_bottom.predict(X_test)"
   ]
  },
  {
   "cell_type": "code",
   "execution_count": 18,
   "id": "28d820b4",
   "metadata": {},
   "outputs": [
    {
     "data": {
      "text/plain": [
       "array([[4.41479131e-07, 6.06451522e-06, 4.63988698e-07, 9.94566653e-06,\n",
       "        9.98976111e-01, 1.78650458e-04, 9.14865177e-06, 1.20948630e-06,\n",
       "        7.74101045e-06, 3.76106997e-04, 3.45834962e-07, 5.30073692e-07,\n",
       "        8.60242799e-05, 3.30621115e-05, 3.13697150e-04, 4.13588225e-07],\n",
       "       [7.12279825e-06, 9.97572101e-07, 2.69580619e-06, 5.68534331e-09,\n",
       "        1.95145622e-05, 5.41648711e-04, 9.87799525e-01, 2.74716232e-08,\n",
       "        1.70008832e-07, 1.15956916e-02, 1.23305298e-07, 3.33036515e-10,\n",
       "        3.91636104e-06, 3.04062610e-06, 2.54823390e-05, 3.72710538e-08],\n",
       "       [1.03703826e-07, 2.95038581e-06, 4.21395940e-09, 3.78113909e-05,\n",
       "        9.82132554e-01, 8.85669215e-06, 6.60087899e-05, 4.94292035e-05,\n",
       "        4.01923637e-04, 2.85868370e-03, 1.42269897e-07, 1.31691445e-06,\n",
       "        1.89290047e-04, 1.42490910e-02, 1.66141785e-06, 1.78015725e-07],\n",
       "       [7.21245212e-03, 1.92024279e-02, 4.37832532e-05, 2.24211179e-02,\n",
       "        2.69853114e-03, 2.60220398e-03, 1.31284760e-03, 2.41011905e-04,\n",
       "        8.70040894e-01, 5.95557794e-04, 4.34169313e-04, 1.34120947e-02,\n",
       "        3.44714639e-03, 2.30112579e-02, 1.56895269e-03, 3.17556113e-02],\n",
       "       [7.25085147e-06, 4.81122552e-05, 9.63633511e-08, 9.99725401e-01,\n",
       "        1.08189110e-04, 5.98979432e-06, 1.56259304e-07, 9.99188003e-08,\n",
       "        1.61793705e-05, 1.43067655e-06, 6.85770516e-08, 4.11643487e-06,\n",
       "        2.97970400e-05, 4.11078763e-05, 2.74360815e-07, 1.17219915e-05],\n",
       "       [4.39616619e-04, 3.31179751e-03, 7.46916048e-05, 8.64327070e-04,\n",
       "        7.99871777e-05, 2.58616288e-04, 2.10905215e-04, 8.96200945e-05,\n",
       "        9.85316455e-01, 4.77837566e-05, 1.75055373e-03, 5.33852819e-03,\n",
       "        3.40048748e-04, 1.91869200e-04, 8.77377461e-04, 8.07790260e-04],\n",
       "       [3.40464234e-04, 5.11520284e-06, 5.64737732e-08, 1.23407144e-05,\n",
       "        2.32358062e-07, 5.99886943e-03, 4.77356480e-07, 1.19171036e-05,\n",
       "        2.35944344e-06, 6.33037445e-08, 3.10651157e-02, 9.60537434e-01,\n",
       "        1.93654990e-03, 7.46781689e-06, 1.48987871e-08, 8.15346721e-05],\n",
       "       [6.80660270e-03, 8.87355581e-03, 1.36386091e-03, 7.31504858e-01,\n",
       "        1.54544741e-01, 2.90113427e-02, 3.02604662e-04, 1.35466112e-02,\n",
       "        7.53610453e-04, 1.39114461e-04, 5.54081227e-04, 1.70989670e-02,\n",
       "        5.47546369e-05, 3.31784412e-02, 9.98522504e-04, 1.26838626e-03],\n",
       "       [1.30119303e-03, 2.87031726e-04, 9.97410595e-01, 1.71397496e-05,\n",
       "        8.75186161e-05, 1.63257762e-04, 1.38316489e-06, 3.27356720e-05,\n",
       "        2.62149740e-07, 1.01430465e-04, 2.04746880e-06, 1.17253476e-05,\n",
       "        2.29083671e-05, 5.48579730e-04, 5.35022400e-06, 6.85525538e-06],\n",
       "       [2.57906449e-05, 1.03497065e-07, 6.33782982e-09, 3.31715673e-05,\n",
       "        9.83369052e-01, 2.64766481e-04, 2.43688039e-08, 1.30801126e-07,\n",
       "        1.59350064e-04, 1.54781505e-04, 8.35313685e-08, 2.79222218e-06,\n",
       "        1.59725882e-02, 1.51782478e-05, 1.27830271e-08, 2.15179307e-06]],\n",
       "      dtype=float32)"
      ]
     },
     "execution_count": 18,
     "metadata": {},
     "output_type": "execute_result"
    }
   ],
   "source": [
    "predictions[:10]"
   ]
  },
  {
   "cell_type": "code",
   "execution_count": 19,
   "id": "8f198104",
   "metadata": {},
   "outputs": [
    {
     "data": {
      "text/plain": [
       "[4, 6, 4, 8, 3, 8, 11, 3, 2, 4]"
      ]
     },
     "execution_count": 19,
     "metadata": {},
     "output_type": "execute_result"
    }
   ],
   "source": [
    "y_classes_1 = [np.argmax(element) for element in predictions]\n",
    "y_classes_1[:10]"
   ]
  },
  {
   "cell_type": "code",
   "execution_count": 20,
   "id": "0c96d757",
   "metadata": {},
   "outputs": [],
   "source": [
    "df3 = pd.DataFrame(y_classes_1,columns = ['label'])\n",
    "result_1 = pd.concat([df, df3], axis=1)\n",
    "result_1.set_index('id',inplace = True)\n",
    "result_1.to_csv(\"C:/Users/nithi/.jupyter/bottom_results.csv\")"
   ]
  },
  {
   "cell_type": "code",
   "execution_count": null,
   "id": "51ef29a7",
   "metadata": {},
   "outputs": [],
   "source": []
  }
 ],
 "metadata": {
  "kernelspec": {
   "display_name": "Python 3",
   "language": "python",
   "name": "python3"
  },
  "language_info": {
   "codemirror_mode": {
    "name": "ipython",
    "version": 3
   },
   "file_extension": ".py",
   "mimetype": "text/x-python",
   "name": "python",
   "nbconvert_exporter": "python",
   "pygments_lexer": "ipython3",
   "version": "3.8.8"
  }
 },
 "nbformat": 4,
 "nbformat_minor": 5
}
