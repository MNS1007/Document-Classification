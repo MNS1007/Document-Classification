{
 "cells": [
  {
   "cell_type": "code",
   "execution_count": 1,
   "id": "c51159b4",
   "metadata": {},
   "outputs": [],
   "source": [
    "import pandas as pd\n",
    "import numpy as np\n",
    "import os\n",
    "import tensorflow as tf\n",
    "import keras\n",
    "import cv2\n",
    "from tensorflow.keras import datasets,layers,models\n",
    "import matplotlib.pyplot as plt\n",
    "import matplotlib.image as mpimg\n",
    "import pickle"
   ]
  },
  {
   "cell_type": "code",
   "execution_count": 2,
   "id": "b091ccc9",
   "metadata": {},
   "outputs": [],
   "source": [
    "X_train=np.load(\"RIGHT_TRAIN.npy\")\n",
    "y_train=np.load(\"y_final_train.npy\")\n",
    "X_cval=np.load(\"X_final_cval.npy\")\n",
    "Y_cval=np.load(\"y_final_cval.npy\")"
   ]
  },
  {
   "cell_type": "code",
   "execution_count": 3,
   "id": "565aae1d",
   "metadata": {},
   "outputs": [
    {
     "data": {
      "text/plain": [
       "(38400, 128, 128, 3)"
      ]
     },
     "execution_count": 3,
     "metadata": {},
     "output_type": "execute_result"
    }
   ],
   "source": [
    "X_train.shape"
   ]
  },
  {
   "cell_type": "code",
   "execution_count": 4,
   "id": "6749542c",
   "metadata": {},
   "outputs": [],
   "source": [
    "data_augmentation = keras.Sequential([\n",
    "    layers.experimental.preprocessing.RandomZoom(0.1),\n",
    "    layers.experimental.preprocessing.RandomContrast(0.7),\n",
    "    \n",
    "])"
   ]
  },
  {
   "cell_type": "code",
   "execution_count": 5,
   "id": "8da5a514",
   "metadata": {},
   "outputs": [],
   "source": [
    "cnn_right= models.Sequential([\n",
    "    data_augmentation,\n",
    "    # cnn\n",
    "    layers.Conv2D(filters = 32,kernel_size = (3,3),activation = 'relu',input_shape = (128,128,3),padding = 'same'),\n",
    "    layers.MaxPooling2D((2,2)),\n",
    "    \n",
    "    layers.Conv2D(filters = 32,kernel_size = (3,3),activation = 'relu',input_shape = (128,128,3),padding = 'same'),\n",
    "    layers.MaxPooling2D((2,2)),\n",
    "    \n",
    "    layers.Conv2D(filters = 32,kernel_size = (3,3),activation = 'relu',input_shape = (128,128,3),padding = 'same'),\n",
    "    layers.MaxPooling2D((2,2)),\n",
    "    \n",
    "    layers.Conv2D(filters = 32,kernel_size = (3,3),activation = 'relu',input_shape = (128,128,3),padding = 'same'),\n",
    "    layers.MaxPooling2D((2,2)),\n",
    "    \n",
    "    #layers.Conv2D(filters = 32,kernel_size = (3,3),activation = 'relu',input_shape = (128,128,3),padding = 'same'),\n",
    "    #layers.MaxPooling2D((2,2)),\n",
    "    \n",
    "    #layers.Conv2D(filters = 32,kernel_size = (3,3),activation = 'relu',input_shape = (128,128,3),padding = 'same'),\n",
    "    #layers.MaxPooling2D((2,2)),\n",
    "    \n",
    "    layers.Dropout(0.2),\n",
    "    \n",
    "    # dense\n",
    "    layers.Flatten(),\n",
    "    layers.Dense(64,activation = \"relu\"),\n",
    "    #layers.Dense(64,activation = \"relu\"),\n",
    "    layers.Dense(16,activation = 'softmax')\n",
    "]\n",
    ")"
   ]
  },
  {
   "cell_type": "code",
   "execution_count": 6,
   "id": "9e7487f3",
   "metadata": {},
   "outputs": [],
   "source": [
    "cnn_right.compile(\n",
    "    optimizer='adam',\n",
    "    loss=\"sparse_categorical_crossentropy\",\n",
    "    metrics=\"accuracy\"   \n",
    ")"
   ]
  },
  {
   "cell_type": "code",
   "execution_count": 8,
   "id": "5da59c49",
   "metadata": {},
   "outputs": [
    {
     "name": "stdout",
     "output_type": "stream",
     "text": [
      "Epoch 1/50\n",
      "WARNING:tensorflow:Using a while_loop for converting RngReadAndSkip\n",
      "WARNING:tensorflow:Using a while_loop for converting Bitcast\n",
      "WARNING:tensorflow:Using a while_loop for converting Bitcast\n",
      "WARNING:tensorflow:Using a while_loop for converting StatelessRandomUniformFullIntV2\n",
      "WARNING:tensorflow:Using a while_loop for converting StatelessRandomGetKeyCounter\n",
      "WARNING:tensorflow:Using a while_loop for converting StatelessRandomUniformV2\n",
      "WARNING:tensorflow:Using a while_loop for converting AdjustContrastv2\n",
      "WARNING:tensorflow:Using a while_loop for converting RngReadAndSkip\n",
      "WARNING:tensorflow:Using a while_loop for converting Bitcast\n",
      "WARNING:tensorflow:Using a while_loop for converting Bitcast\n",
      "WARNING:tensorflow:Using a while_loop for converting StatelessRandomUniformFullIntV2\n",
      "WARNING:tensorflow:Using a while_loop for converting StatelessRandomGetKeyCounter\n",
      "WARNING:tensorflow:Using a while_loop for converting StatelessRandomUniformV2\n",
      "WARNING:tensorflow:Using a while_loop for converting AdjustContrastv2\n",
      "WARNING:tensorflow:Using a while_loop for converting RngReadAndSkip\n",
      "WARNING:tensorflow:Using a while_loop for converting Bitcast\n",
      "WARNING:tensorflow:Using a while_loop for converting Bitcast\n",
      "WARNING:tensorflow:Using a while_loop for converting StatelessRandomUniformFullIntV2\n",
      "WARNING:tensorflow:Using a while_loop for converting StatelessRandomGetKeyCounter\n",
      "WARNING:tensorflow:Using a while_loop for converting StatelessRandomUniformV2\n",
      "WARNING:tensorflow:Using a while_loop for converting AdjustContrastv2\n",
      "WARNING:tensorflow:Using a while_loop for converting RngReadAndSkip\n",
      "WARNING:tensorflow:Using a while_loop for converting Bitcast\n",
      "WARNING:tensorflow:Using a while_loop for converting Bitcast\n",
      "WARNING:tensorflow:Using a while_loop for converting StatelessRandomUniformFullIntV2\n",
      "WARNING:tensorflow:Using a while_loop for converting StatelessRandomGetKeyCounter\n",
      "WARNING:tensorflow:Using a while_loop for converting StatelessRandomUniformV2\n",
      "WARNING:tensorflow:Using a while_loop for converting AdjustContrastv2\n",
      "1200/1200 [==============================] - 535s 441ms/step - loss: 2.4047 - accuracy: 0.2202 - val_loss: 2.0446 - val_accuracy: 0.3553\n",
      "Epoch 2/50\n",
      "1200/1200 [==============================] - 519s 432ms/step - loss: 1.9587 - accuracy: 0.3824 - val_loss: 1.7454 - val_accuracy: 0.4523\n",
      "Epoch 3/50\n",
      "1200/1200 [==============================] - 519s 432ms/step - loss: 1.7784 - accuracy: 0.4430 - val_loss: 1.7085 - val_accuracy: 0.4767\n",
      "Epoch 4/50\n",
      "1200/1200 [==============================] - 520s 433ms/step - loss: 1.6620 - accuracy: 0.4843 - val_loss: 1.6016 - val_accuracy: 0.5123\n",
      "Epoch 5/50\n",
      "1200/1200 [==============================] - 519s 433ms/step - loss: 1.5643 - accuracy: 0.5155 - val_loss: 1.5165 - val_accuracy: 0.5409\n",
      "Epoch 6/50\n",
      "1200/1200 [==============================] - 520s 433ms/step - loss: 1.4872 - accuracy: 0.5418 - val_loss: 1.5279 - val_accuracy: 0.5421\n",
      "Epoch 7/50\n",
      "1200/1200 [==============================] - 520s 433ms/step - loss: 1.4206 - accuracy: 0.5615 - val_loss: 1.4379 - val_accuracy: 0.5645\n",
      "Epoch 8/50\n",
      "1200/1200 [==============================] - 515s 429ms/step - loss: 1.3841 - accuracy: 0.5739 - val_loss: 1.4508 - val_accuracy: 0.5611\n",
      "Epoch 9/50\n",
      "1200/1200 [==============================] - 515s 429ms/step - loss: 1.3407 - accuracy: 0.5820 - val_loss: 1.3615 - val_accuracy: 0.5947\n",
      "Epoch 10/50\n",
      "1200/1200 [==============================] - 540s 450ms/step - loss: 1.2969 - accuracy: 0.5977 - val_loss: 1.3740 - val_accuracy: 0.5890\n",
      "Epoch 11/50\n",
      "1200/1200 [==============================] - 518s 431ms/step - loss: 1.2735 - accuracy: 0.6031 - val_loss: 1.3644 - val_accuracy: 0.5975\n",
      "Epoch 12/50\n",
      "1200/1200 [==============================] - 516s 430ms/step - loss: 1.2379 - accuracy: 0.6129 - val_loss: 1.3869 - val_accuracy: 0.5913\n",
      "Epoch 13/50\n",
      "1200/1200 [==============================] - 532s 443ms/step - loss: 1.2210 - accuracy: 0.6192 - val_loss: 1.3631 - val_accuracy: 0.5989\n",
      "Epoch 14/50\n",
      "1200/1200 [==============================] - 514s 429ms/step - loss: 1.1983 - accuracy: 0.6285 - val_loss: 1.3204 - val_accuracy: 0.6143\n",
      "Epoch 15/50\n",
      "1200/1200 [==============================] - 514s 428ms/step - loss: 1.1816 - accuracy: 0.6310 - val_loss: 1.3591 - val_accuracy: 0.5969\n",
      "Epoch 16/50\n",
      "1200/1200 [==============================] - 513s 428ms/step - loss: 1.1603 - accuracy: 0.6374 - val_loss: 1.3176 - val_accuracy: 0.6149\n",
      "Epoch 17/50\n",
      "1200/1200 [==============================] - 513s 427ms/step - loss: 1.1441 - accuracy: 0.6410 - val_loss: 1.3475 - val_accuracy: 0.6064\n",
      "Epoch 18/50\n",
      "1200/1200 [==============================] - 512s 426ms/step - loss: 1.1367 - accuracy: 0.6432 - val_loss: 1.2715 - val_accuracy: 0.6171\n",
      "Epoch 19/50\n",
      "1200/1200 [==============================] - 512s 426ms/step - loss: 1.1139 - accuracy: 0.6487 - val_loss: 1.3044 - val_accuracy: 0.6222\n",
      "Epoch 20/50\n",
      "1200/1200 [==============================] - 597s 497ms/step - loss: 1.0937 - accuracy: 0.6560 - val_loss: 1.3395 - val_accuracy: 0.6112\n",
      "Epoch 21/50\n",
      "1200/1200 [==============================] - 586s 489ms/step - loss: 1.0863 - accuracy: 0.6569 - val_loss: 1.2858 - val_accuracy: 0.6248\n",
      "Epoch 22/50\n",
      "1200/1200 [==============================] - 511s 426ms/step - loss: 1.0750 - accuracy: 0.6606 - val_loss: 1.3070 - val_accuracy: 0.6254\n",
      "Epoch 23/50\n",
      "1200/1200 [==============================] - 511s 426ms/step - loss: 1.0629 - accuracy: 0.6652 - val_loss: 1.3166 - val_accuracy: 0.6314\n",
      "Epoch 24/50\n",
      "1200/1200 [==============================] - 514s 428ms/step - loss: 1.0455 - accuracy: 0.6717 - val_loss: 1.3077 - val_accuracy: 0.6235\n",
      "Epoch 25/50\n",
      "1200/1200 [==============================] - 514s 428ms/step - loss: 1.0452 - accuracy: 0.6701 - val_loss: 1.3205 - val_accuracy: 0.6256\n",
      "Epoch 26/50\n",
      "1200/1200 [==============================] - 513s 428ms/step - loss: 1.0332 - accuracy: 0.6723 - val_loss: 1.3083 - val_accuracy: 0.6296\n",
      "Epoch 27/50\n",
      "1200/1200 [==============================] - 515s 429ms/step - loss: 1.0262 - accuracy: 0.6768 - val_loss: 1.3124 - val_accuracy: 0.6328\n",
      "Epoch 28/50\n",
      "1200/1200 [==============================] - 515s 429ms/step - loss: 1.0223 - accuracy: 0.6758 - val_loss: 1.3445 - val_accuracy: 0.6223\n",
      "Epoch 29/50\n",
      "1200/1200 [==============================] - 515s 429ms/step - loss: 1.0056 - accuracy: 0.6806 - val_loss: 1.3159 - val_accuracy: 0.6291\n",
      "Epoch 30/50\n",
      "1200/1200 [==============================] - 647s 539ms/step - loss: 0.9951 - accuracy: 0.6845 - val_loss: 1.2865 - val_accuracy: 0.6243\n",
      "Epoch 31/50\n",
      "1200/1200 [==============================] - 648s 540ms/step - loss: 0.9895 - accuracy: 0.6865 - val_loss: 1.3249 - val_accuracy: 0.6292\n",
      "Epoch 32/50\n",
      "1200/1200 [==============================] - 645s 537ms/step - loss: 0.9890 - accuracy: 0.6877 - val_loss: 1.2821 - val_accuracy: 0.6327\n",
      "Epoch 33/50\n",
      "1200/1200 [==============================] - 646s 538ms/step - loss: 0.9843 - accuracy: 0.6885 - val_loss: 1.3204 - val_accuracy: 0.6289\n",
      "Epoch 34/50\n",
      "1200/1200 [==============================] - 648s 540ms/step - loss: 0.9789 - accuracy: 0.6882 - val_loss: 1.3234 - val_accuracy: 0.6330\n",
      "Epoch 35/50\n",
      "1200/1200 [==============================] - 646s 538ms/step - loss: 0.9578 - accuracy: 0.6959 - val_loss: 1.3394 - val_accuracy: 0.6310\n",
      "Epoch 36/50\n",
      "1200/1200 [==============================] - 646s 538ms/step - loss: 0.9714 - accuracy: 0.6915 - val_loss: 1.3338 - val_accuracy: 0.6207\n",
      "Epoch 37/50\n",
      "1200/1200 [==============================] - 646s 538ms/step - loss: 0.9567 - accuracy: 0.6944 - val_loss: 1.3227 - val_accuracy: 0.6364\n",
      "Epoch 38/50\n",
      "1200/1200 [==============================] - 646s 538ms/step - loss: 0.9452 - accuracy: 0.6995 - val_loss: 1.4280 - val_accuracy: 0.6160\n",
      "Epoch 39/50\n",
      "1200/1200 [==============================] - 645s 538ms/step - loss: 0.9451 - accuracy: 0.6964 - val_loss: 1.3240 - val_accuracy: 0.6324\n",
      "Epoch 40/50\n",
      "1200/1200 [==============================] - 649s 541ms/step - loss: 0.9407 - accuracy: 0.6991 - val_loss: 1.3563 - val_accuracy: 0.6285\n",
      "Epoch 41/50\n",
      "1200/1200 [==============================] - 591s 492ms/step - loss: 0.9396 - accuracy: 0.7000 - val_loss: 1.3080 - val_accuracy: 0.6368\n",
      "Epoch 42/50\n"
     ]
    },
    {
     "name": "stdout",
     "output_type": "stream",
     "text": [
      "1200/1200 [==============================] - 561s 467ms/step - loss: 0.9224 - accuracy: 0.7061 - val_loss: 1.3250 - val_accuracy: 0.6364\n",
      "Epoch 43/50\n",
      "1200/1200 [==============================] - 567s 472ms/step - loss: 0.9198 - accuracy: 0.7050 - val_loss: 1.3163 - val_accuracy: 0.6388\n",
      "Epoch 44/50\n",
      "1200/1200 [==============================] - 603s 502ms/step - loss: 0.9192 - accuracy: 0.7052 - val_loss: 1.3532 - val_accuracy: 0.6331\n",
      "Epoch 45/50\n",
      "1200/1200 [==============================] - 636s 530ms/step - loss: 0.9105 - accuracy: 0.7073 - val_loss: 1.3465 - val_accuracy: 0.6375\n",
      "Epoch 46/50\n",
      "1200/1200 [==============================] - 634s 529ms/step - loss: 0.9045 - accuracy: 0.7118 - val_loss: 1.3445 - val_accuracy: 0.6366\n",
      "Epoch 47/50\n",
      "1200/1200 [==============================] - 667s 556ms/step - loss: 0.9099 - accuracy: 0.7063 - val_loss: 1.3560 - val_accuracy: 0.6277\n",
      "Epoch 48/50\n",
      "1200/1200 [==============================] - 671s 559ms/step - loss: 0.8864 - accuracy: 0.7156 - val_loss: 1.4306 - val_accuracy: 0.6205\n",
      "Epoch 49/50\n",
      "1200/1200 [==============================] - 642s 535ms/step - loss: 0.8958 - accuracy: 0.7129 - val_loss: 1.3489 - val_accuracy: 0.6260\n",
      "Epoch 50/50\n",
      "1200/1200 [==============================] - 669s 557ms/step - loss: 0.8875 - accuracy: 0.7162 - val_loss: 1.3054 - val_accuracy: 0.6356\n"
     ]
    },
    {
     "data": {
      "text/plain": [
       "<keras.callbacks.History at 0x237eca79610>"
      ]
     },
     "execution_count": 8,
     "metadata": {},
     "output_type": "execute_result"
    }
   ],
   "source": [
    "cnn_right.fit(X_train,y_train,epochs=50, validation_data=(X_cval,Y_cval))"
   ]
  },
  {
   "cell_type": "code",
   "execution_count": 9,
   "id": "5af74a27",
   "metadata": {},
   "outputs": [],
   "source": [
    "cnn_right.save(\"RIGHT_MODEL.h5\")"
   ]
  },
  {
   "cell_type": "code",
   "execution_count": 10,
   "id": "5c2d41f8",
   "metadata": {},
   "outputs": [],
   "source": [
    "new_path=\"C:/Users/nithi/.jupyter/new_validation\""
   ]
  },
  {
   "cell_type": "code",
   "execution_count": 11,
   "id": "0ce96acb",
   "metadata": {},
   "outputs": [],
   "source": [
    "data = range(17801,18701)\n",
    "df = pd.DataFrame(data,columns = ['id'])"
   ]
  },
  {
   "cell_type": "code",
   "execution_count": 12,
   "id": "9b9bbf97",
   "metadata": {},
   "outputs": [],
   "source": [
    "X_test = []\n",
    "for i in range(len(df)):\n",
    "    path = os.path.join(new_path,str(df.iloc[i,0]))\n",
    "    path = path.replace(\"\\\\\",\"/\")\n",
    "    path = path+\".tif\"\n",
    "    path=path.replace(\"\\new\",\"/new\")\n",
    "    #path = os.path.join(validation_dir,str(df.iloc[i,0]))\n",
    "    #path = path.replace(\"\\\\\",\"/\")\n",
    "    #path = path + \".tif\"\n",
    "    img = cv2.imread(path)\n",
    "    img = img / 255\n",
    "    resized_img = cv2.resize(img,(128,128))\n",
    "    X_test.append(resized_img)"
   ]
  },
  {
   "cell_type": "code",
   "execution_count": 14,
   "id": "90e72003",
   "metadata": {},
   "outputs": [
    {
     "name": "stdout",
     "output_type": "stream",
     "text": [
      "29/29 [==============================] - 5s 128ms/step\n"
     ]
    }
   ],
   "source": [
    "X_test = np.array(X_test)\n",
    "predictions=cnn_right.predict(X_test)"
   ]
  },
  {
   "cell_type": "code",
   "execution_count": 15,
   "id": "99254c60",
   "metadata": {},
   "outputs": [
    {
     "data": {
      "text/plain": [
       "array([[3.09115392e-03, 1.53049203e-02, 8.84598121e-04, 7.43663404e-04,\n",
       "        8.60166073e-01, 6.85126567e-03, 4.01899889e-02, 6.84061320e-04,\n",
       "        3.79141374e-03, 2.01033521e-02, 3.25591071e-04, 6.71055634e-03,\n",
       "        3.39116305e-02, 4.18366725e-03, 2.32190802e-03, 7.36115850e-04],\n",
       "       [4.47348430e-06, 3.49473771e-06, 4.51281176e-06, 4.03673894e-09,\n",
       "        1.20387142e-06, 8.70588003e-04, 9.97590780e-01, 6.12058966e-06,\n",
       "        5.18277110e-09, 1.43202709e-03, 3.53622454e-05, 2.64548152e-08,\n",
       "        1.37278330e-05, 9.80774257e-06, 2.14886604e-05, 6.39055861e-06],\n",
       "       [8.79736149e-07, 9.61559977e-07, 6.86569459e-15, 2.30179830e-05,\n",
       "        9.95760143e-01, 8.35966512e-06, 5.44071627e-05, 6.87016745e-06,\n",
       "        1.98120810e-03, 1.88147835e-03, 1.04186890e-08, 1.92804404e-08,\n",
       "        9.38819867e-05, 1.88728111e-04, 2.22691590e-08, 6.58100641e-09],\n",
       "       [1.69695949e-03, 2.23800517e-03, 1.01933379e-04, 1.31947072e-02,\n",
       "        1.25176669e-03, 6.27498841e-04, 5.27936267e-04, 2.06940284e-04,\n",
       "        9.70022500e-01, 1.24901562e-05, 3.21267126e-03, 7.80944538e-05,\n",
       "        1.10572693e-03, 1.00313290e-03, 8.94938654e-04, 3.82472598e-03],\n",
       "       [5.32711510e-07, 1.61065293e-06, 3.73065889e-09, 9.99965668e-01,\n",
       "        1.03317097e-06, 4.37424546e-07, 9.88796742e-08, 3.33773187e-08,\n",
       "        1.04582728e-06, 2.91740676e-09, 9.36909483e-09, 1.02937705e-07,\n",
       "        5.12102147e-08, 2.93619487e-05, 3.83371823e-09, 1.43186529e-08],\n",
       "       [3.29475920e-03, 6.67285845e-02, 2.62728950e-04, 4.62620636e-04,\n",
       "        1.14163163e-06, 1.00303569e-03, 1.64589801e-04, 1.97772279e-05,\n",
       "        9.16839778e-01, 8.36250091e-09, 7.61938188e-03, 1.00010002e-04,\n",
       "        1.71291627e-04, 1.28157908e-05, 5.87844916e-05, 3.26071540e-03],\n",
       "       [7.98458327e-03, 5.25809533e-04, 4.03762961e-08, 3.54129625e-05,\n",
       "        8.95930425e-05, 8.30902532e-03, 8.73409372e-05, 4.31546755e-03,\n",
       "        8.15925887e-04, 2.24998894e-05, 9.70385134e-01, 5.10021299e-03,\n",
       "        1.67832838e-03, 3.07508162e-04, 8.29150376e-05, 2.60216300e-04],\n",
       "       [5.21957059e-04, 8.10002238e-02, 6.42457278e-04, 6.67887151e-01,\n",
       "        6.57931417e-02, 2.02580914e-03, 4.09870117e-04, 9.35623772e-04,\n",
       "        1.57109573e-02, 3.73014860e-04, 7.36346003e-03, 1.49300680e-01,\n",
       "        3.64022999e-04, 6.09473838e-03, 9.28868307e-04, 6.48045330e-04],\n",
       "       [1.24748296e-03, 8.73248282e-05, 9.94826376e-01, 9.54103743e-05,\n",
       "        1.63073564e-05, 2.32558828e-04, 6.03746315e-08, 2.64681497e-04,\n",
       "        2.17530942e-06, 2.56658877e-05, 1.34414950e-05, 2.44607309e-05,\n",
       "        6.01250067e-05, 3.04732425e-03, 1.76918820e-05, 3.89247944e-05],\n",
       "       [3.01852153e-04, 3.64031293e-05, 7.75133958e-06, 3.49104463e-04,\n",
       "        6.83807135e-01, 1.07487433e-01, 1.47104189e-01, 1.57705005e-09,\n",
       "        2.30036257e-03, 1.01662742e-03, 8.05122369e-09, 6.80498033e-06,\n",
       "        5.75792007e-02, 3.13337182e-06, 1.98440588e-08, 3.36177031e-10]],\n",
       "      dtype=float32)"
      ]
     },
     "execution_count": 15,
     "metadata": {},
     "output_type": "execute_result"
    }
   ],
   "source": [
    "predictions[:10]"
   ]
  },
  {
   "cell_type": "code",
   "execution_count": 17,
   "id": "05e2d7a5",
   "metadata": {},
   "outputs": [
    {
     "data": {
      "text/plain": [
       "[4, 6, 4, 8, 3, 8, 10, 3, 2, 4]"
      ]
     },
     "execution_count": 17,
     "metadata": {},
     "output_type": "execute_result"
    }
   ],
   "source": [
    "y_classes_1 = [np.argmax(element) for element in predictions]\n",
    "y_classes_1[:10]"
   ]
  },
  {
   "cell_type": "code",
   "execution_count": 18,
   "id": "1f9cb61e",
   "metadata": {},
   "outputs": [],
   "source": [
    "df3 = pd.DataFrame(y_classes_1,columns = ['label'])\n",
    "result_1 = pd.concat([df, df3], axis=1)\n",
    "result_1.set_index('id',inplace = True)\n",
    "result_1.to_csv(\"C:/Users/nithi/.jupyter/right_results.csv\")"
   ]
  },
  {
   "cell_type": "code",
   "execution_count": null,
   "id": "8a70d06d",
   "metadata": {},
   "outputs": [],
   "source": []
  }
 ],
 "metadata": {
  "kernelspec": {
   "display_name": "Python 3",
   "language": "python",
   "name": "python3"
  },
  "language_info": {
   "codemirror_mode": {
    "name": "ipython",
    "version": 3
   },
   "file_extension": ".py",
   "mimetype": "text/x-python",
   "name": "python",
   "nbconvert_exporter": "python",
   "pygments_lexer": "ipython3",
   "version": "3.8.8"
  }
 },
 "nbformat": 4,
 "nbformat_minor": 5
}
