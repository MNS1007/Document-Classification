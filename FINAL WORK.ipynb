{
 "cells": [
  {
   "cell_type": "code",
   "execution_count": 1,
   "id": "a7e7c034",
   "metadata": {},
   "outputs": [],
   "source": [
    "import pandas as pd\n",
    "import numpy as np\n",
    "import os\n",
    "import tensorflow as tf\n",
    "import keras\n",
    "import cv2\n",
    "from tensorflow.keras import datasets,layers,models\n",
    "import matplotlib.pyplot as plt\n",
    "import matplotlib.image as mpimg\n",
    "import pickle"
   ]
  },
  {
   "cell_type": "code",
   "execution_count": 2,
   "id": "9f0362be",
   "metadata": {},
   "outputs": [
    {
     "name": "stdout",
     "output_type": "stream",
     "text": [
      "WARNING:tensorflow:Using a while_loop for converting RngReadAndSkip\n",
      "WARNING:tensorflow:Using a while_loop for converting Bitcast\n",
      "WARNING:tensorflow:Using a while_loop for converting Bitcast\n",
      "WARNING:tensorflow:Using a while_loop for converting StatelessRandomUniformFullIntV2\n",
      "WARNING:tensorflow:Using a while_loop for converting StatelessRandomGetKeyCounter\n",
      "WARNING:tensorflow:Using a while_loop for converting StatelessRandomUniformV2\n",
      "WARNING:tensorflow:Using a while_loop for converting AdjustContrastv2\n",
      "WARNING:tensorflow:Using a while_loop for converting RngReadAndSkip\n",
      "WARNING:tensorflow:Using a while_loop for converting Bitcast\n",
      "WARNING:tensorflow:Using a while_loop for converting Bitcast\n",
      "WARNING:tensorflow:Using a while_loop for converting StatelessRandomUniformFullIntV2\n",
      "WARNING:tensorflow:Using a while_loop for converting StatelessRandomGetKeyCounter\n",
      "WARNING:tensorflow:Using a while_loop for converting StatelessRandomUniformV2\n",
      "WARNING:tensorflow:Using a while_loop for converting AdjustContrastv2\n"
     ]
    }
   ],
   "source": [
    "model_header=tf.keras.models.load_model(\"HEADER_MODEL.h5\")\n",
    "model_footer=tf.keras.models.load_model(\"BOTTOM_MODEL.h5\")\n",
    "model_left=tf.keras.models.load_model(\"LEFT_MODEL.h5\")\n",
    "model_right=tf.keras.models.load_model(\"RIGHT_MODEL.h5\")"
   ]
  },
  {
   "cell_type": "code",
   "execution_count": 3,
   "id": "cd03e155",
   "metadata": {},
   "outputs": [],
   "source": [
    "model_whole=tf.keras.models.load_model(\"full_image_model.h5\")"
   ]
  },
  {
   "cell_type": "code",
   "execution_count": 4,
   "id": "8140724c",
   "metadata": {},
   "outputs": [],
   "source": [
    "#X_train=np.load(\"x_final_train.npy\")\n",
    "#y_train=np.load(\"y_final_train.npy\")"
   ]
  },
  {
   "cell_type": "code",
   "execution_count": 5,
   "id": "471d3ebf",
   "metadata": {},
   "outputs": [],
   "source": [
    "#feature_bottom=model_footer.predict(X_train)"
   ]
  },
  {
   "cell_type": "code",
   "execution_count": 6,
   "id": "1fd3e45c",
   "metadata": {},
   "outputs": [],
   "source": [
    "import joblib"
   ]
  },
  {
   "cell_type": "code",
   "execution_count": 7,
   "id": "880add44",
   "metadata": {},
   "outputs": [],
   "source": [
    "#joblib.dump(feature_bottom,\"feature_bottom\")"
   ]
  },
  {
   "cell_type": "code",
   "execution_count": 8,
   "id": "def1b1d1",
   "metadata": {},
   "outputs": [],
   "source": [
    "#feature_left=model_left.predict(X_train)"
   ]
  },
  {
   "cell_type": "code",
   "execution_count": 9,
   "id": "2ae37d77",
   "metadata": {},
   "outputs": [],
   "source": [
    "#joblib.dump(feature_left,\"feature_left\")"
   ]
  },
  {
   "cell_type": "code",
   "execution_count": 10,
   "id": "e84cbbb4",
   "metadata": {},
   "outputs": [
    {
     "name": "stdout",
     "output_type": "stream",
     "text": [
      "1200/1200 [==============================] - 133s 108ms/step\n"
     ]
    }
   ],
   "source": [
    "#feature_right=model_right.predict(X_train)"
   ]
  },
  {
   "cell_type": "code",
   "execution_count": 11,
   "id": "d8912d9a",
   "metadata": {},
   "outputs": [
    {
     "data": {
      "text/plain": [
       "['feature_right']"
      ]
     },
     "execution_count": 11,
     "metadata": {},
     "output_type": "execute_result"
    }
   ],
   "source": [
    "#joblib.dump(feature_right,\"feature_right\")"
   ]
  },
  {
   "cell_type": "code",
   "execution_count": 12,
   "id": "e4ed9b43",
   "metadata": {},
   "outputs": [
    {
     "name": "stdout",
     "output_type": "stream",
     "text": [
      "1200/1200 [==============================] - 146s 121ms/step\n"
     ]
    }
   ],
   "source": [
    "#feature_whole=model_whole.predict(X_train)"
   ]
  },
  {
   "cell_type": "code",
   "execution_count": 13,
   "id": "822e0dfc",
   "metadata": {},
   "outputs": [
    {
     "data": {
      "text/plain": [
       "['feature_whole']"
      ]
     },
     "execution_count": 13,
     "metadata": {},
     "output_type": "execute_result"
    }
   ],
   "source": [
    "#joblib.dump(feature_whole,\"feature_whole\")"
   ]
  },
  {
   "cell_type": "code",
   "execution_count": 14,
   "id": "2303c862",
   "metadata": {},
   "outputs": [],
   "source": [
    "#X_cval=np.load(\"X_final_cval.npy\")\n",
    "#y_cval=np.load(\"y_final_cval.npy\")"
   ]
  },
  {
   "cell_type": "code",
   "execution_count": 17,
   "id": "3d54f1d6",
   "metadata": {},
   "outputs": [
    {
     "name": "stdout",
     "output_type": "stream",
     "text": [
      "300/300 [==============================] - 27s 88ms/step\n",
      "300/300 [==============================] - 29s 97ms/step\n"
     ]
    }
   ],
   "source": [
    "#feature_top_cval=model_header.predict(X_cval)\n",
    "#feature_bottom_cval=model_footer.predict(X_cval)\n",
    "#feature_left_cval=model_left.predict(X_cval)\n",
    "#feature_right_cval=model_right.predict(X_cval)\n",
    "#feature_whole_cval=model_whole.predict(X_cval)"
   ]
  },
  {
   "cell_type": "code",
   "execution_count": 18,
   "id": "dafcaca9",
   "metadata": {},
   "outputs": [
    {
     "data": {
      "text/plain": [
       "['feature_whole_cval']"
      ]
     },
     "execution_count": 18,
     "metadata": {},
     "output_type": "execute_result"
    }
   ],
   "source": [
    "#joblib.dump(feature_top_cval,\"feature_header_cval\")\n",
    "#joblib.dump(feature_bottom_cval,\"feature_bottom_cval\")\n",
    "#joblib.dump(feature_left_cval,\"feature_left_cval\")\n",
    "#joblib.dump(feature_right_cval,\"feature_right_cval\")\n",
    "#joblib.dump(feature_whole_cval,\"feature_whole_cval\")"
   ]
  },
  {
   "cell_type": "code",
   "execution_count": 20,
   "id": "57244297",
   "metadata": {},
   "outputs": [],
   "source": [
    "top=joblib.load(\"feature_top\")\n",
    "bottom=joblib.load(\"feature_bottom\")\n",
    "left=joblib.load(\"feature_left\")\n",
    "right=joblib.load(\"feature_right\")\n",
    "whole=joblib.load(\"feature_whole\")\n",
    "top_cval=joblib.load(\"feature_header_cval\")\n",
    "bottom_cval=joblib.load(\"feature_bottom_cval\")\n",
    "left_cval=joblib.load(\"feature_left_cval\")\n",
    "right_cval=joblib.load(\"feature_right_cval\")\n",
    "whole_cval=joblib.load(\"feature_whole_cval\")"
   ]
  },
  {
   "cell_type": "code",
   "execution_count": 21,
   "id": "a205ccd6",
   "metadata": {},
   "outputs": [],
   "source": [
    "total_features=np.hstack((top,bottom,left,right,whole))\n",
    "total_features_cval=np.hstack((top_cval,bottom_cval,left_cval,right_cval,whole_cval))"
   ]
  },
  {
   "cell_type": "code",
   "execution_count": 24,
   "id": "0689d566",
   "metadata": {},
   "outputs": [
    {
     "data": {
      "text/plain": [
       "(9600, 80)"
      ]
     },
     "execution_count": 24,
     "metadata": {},
     "output_type": "execute_result"
    }
   ],
   "source": [
    "total_features_cval.shape"
   ]
  },
  {
   "cell_type": "code",
   "execution_count": 23,
   "id": "e04cb8e1",
   "metadata": {},
   "outputs": [
    {
     "data": {
      "text/plain": [
       "array([[1.0753371e-06, 5.6144136e-01, 6.1249914e-08, ..., 1.4609784e-03,\n",
       "        3.2120516e-07, 3.6363108e-05],\n",
       "       [5.6918953e-02, 1.3087021e-02, 8.8329259e-03, ..., 5.2188449e-02,\n",
       "        7.2368391e-02, 8.8825062e-02],\n",
       "       [5.3767918e-04, 2.2662996e-01, 1.7828392e-05, ..., 3.1633991e-01,\n",
       "        5.9849583e-07, 1.1299277e-06],\n",
       "       ...,\n",
       "       [1.7198826e-03, 5.1823992e-04, 1.7922706e-04, ..., 2.0636946e-02,\n",
       "        3.1302206e-04, 1.5393643e-04],\n",
       "       [1.6564557e-01, 4.3817874e-02, 1.4428059e-03, ..., 2.4252795e-02,\n",
       "        3.7901248e-03, 5.3846091e-01],\n",
       "       [3.3966891e-02, 1.4985400e-02, 1.3830601e-03, ..., 1.4792486e-01,\n",
       "        2.1375034e-03, 1.6422782e-03]], dtype=float32)"
      ]
     },
     "execution_count": 23,
     "metadata": {},
     "output_type": "execute_result"
    }
   ],
   "source": [
    "total_features"
   ]
  },
  {
   "cell_type": "code",
   "execution_count": 28,
   "id": "7b7a7593",
   "metadata": {},
   "outputs": [],
   "source": [
    "np.save(\"total_features.npy\",total_features)"
   ]
  },
  {
   "cell_type": "code",
   "execution_count": 29,
   "id": "23d4ad76",
   "metadata": {},
   "outputs": [],
   "source": [
    "np.save(\"total_features_cval.npy\",total_features_cval)"
   ]
  },
  {
   "cell_type": "code",
   "execution_count": null,
   "id": "a8737f5a",
   "metadata": {},
   "outputs": [],
   "source": []
  }
 ],
 "metadata": {
  "kernelspec": {
   "display_name": "Python 3",
   "language": "python",
   "name": "python3"
  },
  "language_info": {
   "codemirror_mode": {
    "name": "ipython",
    "version": 3
   },
   "file_extension": ".py",
   "mimetype": "text/x-python",
   "name": "python",
   "nbconvert_exporter": "python",
   "pygments_lexer": "ipython3",
   "version": "3.8.8"
  }
 },
 "nbformat": 4,
 "nbformat_minor": 5
}
